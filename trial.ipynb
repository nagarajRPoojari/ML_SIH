{
 "cells": [
  {
   "cell_type": "code",
   "execution_count": 1,
   "metadata": {},
   "outputs": [],
   "source": [
    "import pandas as pd \n",
    "import numpy as np\n",
    "import tensorflow as tf\n",
    "import sklearn as sk"
   ]
  },
  {
   "cell_type": "code",
   "execution_count": 2,
   "metadata": {},
   "outputs": [],
   "source": [
    "# from user side\n",
    "\n",
    "# location\n",
    "# severity : low, medium , high\n",
    "# capacity-need : small, medium , large\n",
    "# service-need : food and water, shelter , evacuation , medical , fire , workforce , protection\n",
    "# specialization-need : medical , water rescue , search and rescue , fire responce ,  evacuation , earthquake-responce\n",
    "# medical-facilities-need : basic , trauma care , surgical facilities ,intensive care units\n",
    "# supplies and resources : low , high\n"
   ]
  },
  {
   "cell_type": "code",
   "execution_count": 3,
   "metadata": {},
   "outputs": [],
   "source": [
    "# from rescue team side\n",
    "# location\n",
    "# severity : low , medium , high\n",
    "# capacity : small, medium , large\n",
    "# services : food and water, shelter , evacuation , medical , fire , workforce , protection\n",
    "# availability : available , full , temprarily unavailable\n",
    "# specialization : medical , water rescue , search and rescue , fire responce , evacuation ,earthquake-responce\n",
    "# medical facilities : basic , trauma care , surgical facilities ,intensive care units\n",
    "# supplies and resources : well-stocked , limited supplies "
   ]
  },
  {
   "cell_type": "code",
   "execution_count": 4,
   "metadata": {},
   "outputs": [],
   "source": [
    "from random import choices , choice , randint , uniform, sample"
   ]
  },
  {
   "cell_type": "code",
   "execution_count": 5,
   "metadata": {},
   "outputs": [
    {
     "data": {
      "text/plain": [
       "[6, 4]"
      ]
     },
     "execution_count": 5,
     "metadata": {},
     "output_type": "execute_result"
    }
   ],
   "source": [
    "sample([1,2,3,4,5,6],k=randint(1,6))"
   ]
  },
  {
   "cell_type": "code",
   "execution_count": 6,
   "metadata": {},
   "outputs": [],
   "source": [
    "severity=['low','medium','high']\n",
    "capacity=['small','medium','high']\n",
    "services=['food and water','shelter','evacuation','medical','fire','workforce','protection']\n",
    "availability=['available','full','temprarily unavailable']\n",
    "specialization=['medical','water rescue' , 'search and rescue' , 'fire responce' , 'evacuation' ,'earthquake-responce']\n",
    "medical_facility=['basic' , 'trauma care' , 'surgical facilities' ,'intensive care units']\n",
    "supply_and_resource=['well-stocked' , 'limited supplies']"
   ]
  },
  {
   "cell_type": "code",
   "execution_count": 7,
   "metadata": {},
   "outputs": [],
   "source": [
    "severity = [\"low\", \"medium\", \"high\"]\n",
    "capacity = [\"small\", \"medium\", \"large\"]\n",
    "services = [\"medical care\", \"food and water\", \"transportation\", \"language assistance\", \"counseling\"]\n",
    "availability = [\"available\", \"almost full\", \"full\", \"temporarily unavailable\"]\n",
    "specialization = [\"medical\", \"water rescue\", \"search and rescue\", \"fire response\", \"mental health support\"]\n",
    "medical_facility = [\"basic first aid\", \"trauma care\", \"surgical facilities\", \"intensive care units\", \"pediatric care\"]\n",
    "supply_and_resource = [\"well-stocked\", \"limited supplies\", \"medical equipment available\", \"pharmaceuticals available\"]\n",
    "calamities = [\"earthquake\", \"flood\", \"fire\", \"hurricane\", \"tsunami\", \"pandemic\"]\n"
   ]
  },
  {
   "cell_type": "code",
   "execution_count": 8,
   "metadata": {},
   "outputs": [],
   "source": [
    "def generate(severity, capacity, services, availability, specialization, medical_facility, supply_and_resource, calamities):\n",
    "    loc = {\"lat\": uniform(6, 36), \"long\": uniform(68, 98)}\n",
    "    sev = sample(severity, k=1)\n",
    "    cap = sample(capacity, k=1)\n",
    "    serv = sample(services, k=randint(1, len(services)))\n",
    "    avail = sample(availability, k=1)\n",
    "    special = sample(specialization, k=randint(1, len(specialization)))\n",
    "    med = sample(medical_facility, k=randint(1, len(medical_facility)))\n",
    "    resource = sample(supply_and_resource, k=1)\n",
    "    calamity_needs = sample(calamities, k=randint(1, len(calamities)))\n",
    "    \n",
    "    return loc, sev, cap, serv, avail, special, med, resource, calamity_needs\n"
   ]
  },
  {
   "cell_type": "code",
   "execution_count": 9,
   "metadata": {},
   "outputs": [],
   "source": [
    "\n",
    "data = [generate(severity, capacity, services, availability, specialization, medical_facility, supply_and_resource, calamities) for _ in range(100)]\n",
    "columns = [\"Location\", \"Severity\", \"Capacity\", \"Services\", \"Availability\", \"Specialization\", \"Medical Facility\", \"Supply and Resource\",\"calamities\"]\n",
    "df = pd.DataFrame(data, columns=columns)\n"
   ]
  },
  {
   "cell_type": "code",
   "execution_count": 10,
   "metadata": {},
   "outputs": [],
   "source": [
    "from sklearn.preprocessing import LabelEncoder, OneHotEncoder"
   ]
  },
  {
   "cell_type": "code",
   "execution_count": 11,
   "metadata": {},
   "outputs": [],
   "source": [
    "from sklearn.preprocessing import MultiLabelBinarizer\n",
    "one_hot_encoder=MultiLabelBinarizer()"
   ]
  },
  {
   "cell_type": "code",
   "execution_count": 12,
   "metadata": {},
   "outputs": [],
   "source": [
    "df_one_hot=df.copy()"
   ]
  },
  {
   "cell_type": "code",
   "execution_count": 13,
   "metadata": {},
   "outputs": [],
   "source": [
    "classes=[]"
   ]
  },
  {
   "cell_type": "code",
   "execution_count": 14,
   "metadata": {},
   "outputs": [],
   "source": [
    "for column in columns[1:]:\n",
    "    label_arr=df[column].tolist()\n",
    "    one_hot_encoder=MultiLabelBinarizer()\n",
    "    one_hot=one_hot_encoder.fit_transform(label_arr)\n",
    "    classes.append(one_hot_encoder.classes_)\n",
    "    \n",
    "    ll=[list(i) for i in one_hot_encoder.inverse_transform(one_hot)]\n",
    "    \n",
    "    df[column]=ll\n",
    "    df_one_hot[column]=one_hot.tolist()\n",
    "    "
   ]
  },
  {
   "cell_type": "code",
   "execution_count": 15,
   "metadata": {},
   "outputs": [],
   "source": [
    "severity = classes[0]\n",
    "capacity = classes[1]\n",
    "services = classes[2]\n",
    "availability = classes[3]\n",
    "specialization = classes[4]\n",
    "medical_facility = classes[5]\n",
    "supply_and_resource = classes[6]\n",
    "calamities = classes[7]\n"
   ]
  },
  {
   "cell_type": "code",
   "execution_count": 16,
   "metadata": {},
   "outputs": [
    {
     "data": {
      "text/html": [
       "<div>\n",
       "<style scoped>\n",
       "    .dataframe tbody tr th:only-of-type {\n",
       "        vertical-align: middle;\n",
       "    }\n",
       "\n",
       "    .dataframe tbody tr th {\n",
       "        vertical-align: top;\n",
       "    }\n",
       "\n",
       "    .dataframe thead th {\n",
       "        text-align: right;\n",
       "    }\n",
       "</style>\n",
       "<table border=\"1\" class=\"dataframe\">\n",
       "  <thead>\n",
       "    <tr style=\"text-align: right;\">\n",
       "      <th></th>\n",
       "      <th>Location</th>\n",
       "      <th>Severity</th>\n",
       "      <th>Capacity</th>\n",
       "      <th>Services</th>\n",
       "      <th>Availability</th>\n",
       "      <th>Specialization</th>\n",
       "      <th>Medical Facility</th>\n",
       "      <th>Supply and Resource</th>\n",
       "      <th>calamities</th>\n",
       "    </tr>\n",
       "  </thead>\n",
       "  <tbody>\n",
       "    <tr>\n",
       "      <th>0</th>\n",
       "      <td>{'lat': 9.736469432403734, 'long': 81.96167343...</td>\n",
       "      <td>[0, 1, 0]</td>\n",
       "      <td>[0, 0, 1]</td>\n",
       "      <td>[0, 1, 1, 1, 0]</td>\n",
       "      <td>[0, 1, 0, 0]</td>\n",
       "      <td>[0, 0, 1, 0, 0]</td>\n",
       "      <td>[0, 0, 0, 1, 0]</td>\n",
       "      <td>[0, 1, 0, 0]</td>\n",
       "      <td>[1, 0, 0, 1, 1, 1]</td>\n",
       "    </tr>\n",
       "    <tr>\n",
       "      <th>1</th>\n",
       "      <td>{'lat': 24.7317574303097, 'long': 70.063284321...</td>\n",
       "      <td>[0, 0, 1]</td>\n",
       "      <td>[0, 0, 1]</td>\n",
       "      <td>[0, 1, 0, 0, 0]</td>\n",
       "      <td>[0, 1, 0, 0]</td>\n",
       "      <td>[1, 1, 1, 1, 1]</td>\n",
       "      <td>[0, 1, 0, 0, 0]</td>\n",
       "      <td>[0, 0, 1, 0]</td>\n",
       "      <td>[1, 0, 1, 0, 1, 1]</td>\n",
       "    </tr>\n",
       "    <tr>\n",
       "      <th>2</th>\n",
       "      <td>{'lat': 27.882317000137803, 'long': 86.6591534...</td>\n",
       "      <td>[0, 1, 0]</td>\n",
       "      <td>[0, 0, 1]</td>\n",
       "      <td>[0, 1, 0, 1, 1]</td>\n",
       "      <td>[1, 0, 0, 0]</td>\n",
       "      <td>[1, 1, 1, 1, 1]</td>\n",
       "      <td>[0, 1, 0, 1, 0]</td>\n",
       "      <td>[0, 0, 1, 0]</td>\n",
       "      <td>[1, 0, 1, 0, 0, 0]</td>\n",
       "    </tr>\n",
       "    <tr>\n",
       "      <th>3</th>\n",
       "      <td>{'lat': 23.369818512166894, 'long': 94.1749278...</td>\n",
       "      <td>[0, 1, 0]</td>\n",
       "      <td>[0, 1, 0]</td>\n",
       "      <td>[1, 1, 1, 1, 1]</td>\n",
       "      <td>[1, 0, 0, 0]</td>\n",
       "      <td>[1, 0, 1, 1, 1]</td>\n",
       "      <td>[1, 1, 1, 1, 1]</td>\n",
       "      <td>[0, 0, 0, 1]</td>\n",
       "      <td>[1, 1, 0, 0, 1, 1]</td>\n",
       "    </tr>\n",
       "    <tr>\n",
       "      <th>4</th>\n",
       "      <td>{'lat': 24.192323691853876, 'long': 86.4885913...</td>\n",
       "      <td>[1, 0, 0]</td>\n",
       "      <td>[1, 0, 0]</td>\n",
       "      <td>[1, 1, 0, 1, 1]</td>\n",
       "      <td>[0, 0, 1, 0]</td>\n",
       "      <td>[1, 1, 1, 1, 1]</td>\n",
       "      <td>[1, 1, 1, 1, 0]</td>\n",
       "      <td>[1, 0, 0, 0]</td>\n",
       "      <td>[1, 1, 1, 0, 1, 1]</td>\n",
       "    </tr>\n",
       "    <tr>\n",
       "      <th>...</th>\n",
       "      <td>...</td>\n",
       "      <td>...</td>\n",
       "      <td>...</td>\n",
       "      <td>...</td>\n",
       "      <td>...</td>\n",
       "      <td>...</td>\n",
       "      <td>...</td>\n",
       "      <td>...</td>\n",
       "      <td>...</td>\n",
       "    </tr>\n",
       "    <tr>\n",
       "      <th>95</th>\n",
       "      <td>{'lat': 6.084204414853288, 'long': 81.78673479...</td>\n",
       "      <td>[0, 1, 0]</td>\n",
       "      <td>[0, 0, 1]</td>\n",
       "      <td>[0, 0, 1, 0, 0]</td>\n",
       "      <td>[1, 0, 0, 0]</td>\n",
       "      <td>[1, 0, 1, 0, 0]</td>\n",
       "      <td>[0, 1, 1, 1, 1]</td>\n",
       "      <td>[0, 0, 0, 1]</td>\n",
       "      <td>[1, 0, 0, 0, 0, 1]</td>\n",
       "    </tr>\n",
       "    <tr>\n",
       "      <th>96</th>\n",
       "      <td>{'lat': 15.414160779758326, 'long': 85.5456370...</td>\n",
       "      <td>[1, 0, 0]</td>\n",
       "      <td>[0, 1, 0]</td>\n",
       "      <td>[1, 1, 0, 1, 0]</td>\n",
       "      <td>[0, 0, 0, 1]</td>\n",
       "      <td>[1, 0, 0, 1, 0]</td>\n",
       "      <td>[1, 1, 1, 1, 1]</td>\n",
       "      <td>[0, 0, 1, 0]</td>\n",
       "      <td>[1, 1, 1, 1, 1, 1]</td>\n",
       "    </tr>\n",
       "    <tr>\n",
       "      <th>97</th>\n",
       "      <td>{'lat': 8.314710190576328, 'long': 95.43413247...</td>\n",
       "      <td>[0, 1, 0]</td>\n",
       "      <td>[0, 0, 1]</td>\n",
       "      <td>[1, 1, 1, 1, 0]</td>\n",
       "      <td>[0, 0, 0, 1]</td>\n",
       "      <td>[0, 1, 0, 1, 0]</td>\n",
       "      <td>[0, 0, 0, 1, 1]</td>\n",
       "      <td>[0, 0, 1, 0]</td>\n",
       "      <td>[1, 1, 1, 1, 1, 1]</td>\n",
       "    </tr>\n",
       "    <tr>\n",
       "      <th>98</th>\n",
       "      <td>{'lat': 19.70285331992752, 'long': 91.41626550...</td>\n",
       "      <td>[0, 0, 1]</td>\n",
       "      <td>[0, 0, 1]</td>\n",
       "      <td>[1, 1, 0, 1, 1]</td>\n",
       "      <td>[0, 0, 1, 0]</td>\n",
       "      <td>[1, 1, 1, 1, 1]</td>\n",
       "      <td>[1, 1, 1, 1, 0]</td>\n",
       "      <td>[0, 0, 1, 0]</td>\n",
       "      <td>[1, 0, 1, 0, 1, 0]</td>\n",
       "    </tr>\n",
       "    <tr>\n",
       "      <th>99</th>\n",
       "      <td>{'lat': 30.62152061286672, 'long': 68.43303795...</td>\n",
       "      <td>[0, 1, 0]</td>\n",
       "      <td>[0, 1, 0]</td>\n",
       "      <td>[1, 1, 1, 1, 0]</td>\n",
       "      <td>[0, 1, 0, 0]</td>\n",
       "      <td>[1, 0, 1, 1, 1]</td>\n",
       "      <td>[0, 0, 1, 1, 1]</td>\n",
       "      <td>[0, 0, 1, 0]</td>\n",
       "      <td>[0, 1, 0, 1, 0, 1]</td>\n",
       "    </tr>\n",
       "  </tbody>\n",
       "</table>\n",
       "<p>100 rows × 9 columns</p>\n",
       "</div>"
      ],
      "text/plain": [
       "                                             Location   Severity   Capacity   \n",
       "0   {'lat': 9.736469432403734, 'long': 81.96167343...  [0, 1, 0]  [0, 0, 1]  \\\n",
       "1   {'lat': 24.7317574303097, 'long': 70.063284321...  [0, 0, 1]  [0, 0, 1]   \n",
       "2   {'lat': 27.882317000137803, 'long': 86.6591534...  [0, 1, 0]  [0, 0, 1]   \n",
       "3   {'lat': 23.369818512166894, 'long': 94.1749278...  [0, 1, 0]  [0, 1, 0]   \n",
       "4   {'lat': 24.192323691853876, 'long': 86.4885913...  [1, 0, 0]  [1, 0, 0]   \n",
       "..                                                ...        ...        ...   \n",
       "95  {'lat': 6.084204414853288, 'long': 81.78673479...  [0, 1, 0]  [0, 0, 1]   \n",
       "96  {'lat': 15.414160779758326, 'long': 85.5456370...  [1, 0, 0]  [0, 1, 0]   \n",
       "97  {'lat': 8.314710190576328, 'long': 95.43413247...  [0, 1, 0]  [0, 0, 1]   \n",
       "98  {'lat': 19.70285331992752, 'long': 91.41626550...  [0, 0, 1]  [0, 0, 1]   \n",
       "99  {'lat': 30.62152061286672, 'long': 68.43303795...  [0, 1, 0]  [0, 1, 0]   \n",
       "\n",
       "           Services  Availability   Specialization Medical Facility   \n",
       "0   [0, 1, 1, 1, 0]  [0, 1, 0, 0]  [0, 0, 1, 0, 0]  [0, 0, 0, 1, 0]  \\\n",
       "1   [0, 1, 0, 0, 0]  [0, 1, 0, 0]  [1, 1, 1, 1, 1]  [0, 1, 0, 0, 0]   \n",
       "2   [0, 1, 0, 1, 1]  [1, 0, 0, 0]  [1, 1, 1, 1, 1]  [0, 1, 0, 1, 0]   \n",
       "3   [1, 1, 1, 1, 1]  [1, 0, 0, 0]  [1, 0, 1, 1, 1]  [1, 1, 1, 1, 1]   \n",
       "4   [1, 1, 0, 1, 1]  [0, 0, 1, 0]  [1, 1, 1, 1, 1]  [1, 1, 1, 1, 0]   \n",
       "..              ...           ...              ...              ...   \n",
       "95  [0, 0, 1, 0, 0]  [1, 0, 0, 0]  [1, 0, 1, 0, 0]  [0, 1, 1, 1, 1]   \n",
       "96  [1, 1, 0, 1, 0]  [0, 0, 0, 1]  [1, 0, 0, 1, 0]  [1, 1, 1, 1, 1]   \n",
       "97  [1, 1, 1, 1, 0]  [0, 0, 0, 1]  [0, 1, 0, 1, 0]  [0, 0, 0, 1, 1]   \n",
       "98  [1, 1, 0, 1, 1]  [0, 0, 1, 0]  [1, 1, 1, 1, 1]  [1, 1, 1, 1, 0]   \n",
       "99  [1, 1, 1, 1, 0]  [0, 1, 0, 0]  [1, 0, 1, 1, 1]  [0, 0, 1, 1, 1]   \n",
       "\n",
       "   Supply and Resource          calamities  \n",
       "0         [0, 1, 0, 0]  [1, 0, 0, 1, 1, 1]  \n",
       "1         [0, 0, 1, 0]  [1, 0, 1, 0, 1, 1]  \n",
       "2         [0, 0, 1, 0]  [1, 0, 1, 0, 0, 0]  \n",
       "3         [0, 0, 0, 1]  [1, 1, 0, 0, 1, 1]  \n",
       "4         [1, 0, 0, 0]  [1, 1, 1, 0, 1, 1]  \n",
       "..                 ...                 ...  \n",
       "95        [0, 0, 0, 1]  [1, 0, 0, 0, 0, 1]  \n",
       "96        [0, 0, 1, 0]  [1, 1, 1, 1, 1, 1]  \n",
       "97        [0, 0, 1, 0]  [1, 1, 1, 1, 1, 1]  \n",
       "98        [0, 0, 1, 0]  [1, 0, 1, 0, 1, 0]  \n",
       "99        [0, 0, 1, 0]  [0, 1, 0, 1, 0, 1]  \n",
       "\n",
       "[100 rows x 9 columns]"
      ]
     },
     "execution_count": 16,
     "metadata": {},
     "output_type": "execute_result"
    }
   ],
   "source": [
    "df_one_hot"
   ]
  },
  {
   "cell_type": "code",
   "execution_count": 17,
   "metadata": {},
   "outputs": [
    {
     "data": {
      "text/html": [
       "<div>\n",
       "<style scoped>\n",
       "    .dataframe tbody tr th:only-of-type {\n",
       "        vertical-align: middle;\n",
       "    }\n",
       "\n",
       "    .dataframe tbody tr th {\n",
       "        vertical-align: top;\n",
       "    }\n",
       "\n",
       "    .dataframe thead th {\n",
       "        text-align: right;\n",
       "    }\n",
       "</style>\n",
       "<table border=\"1\" class=\"dataframe\">\n",
       "  <thead>\n",
       "    <tr style=\"text-align: right;\">\n",
       "      <th></th>\n",
       "      <th>Location</th>\n",
       "      <th>Severity</th>\n",
       "      <th>Capacity</th>\n",
       "      <th>Services</th>\n",
       "      <th>Availability</th>\n",
       "      <th>Specialization</th>\n",
       "      <th>Medical Facility</th>\n",
       "      <th>Supply and Resource</th>\n",
       "      <th>calamities</th>\n",
       "    </tr>\n",
       "  </thead>\n",
       "  <tbody>\n",
       "    <tr>\n",
       "      <th>0</th>\n",
       "      <td>{'lat': 9.736469432403734, 'long': 81.96167343...</td>\n",
       "      <td>[low]</td>\n",
       "      <td>[small]</td>\n",
       "      <td>[food and water, language assistance, medical ...</td>\n",
       "      <td>[available]</td>\n",
       "      <td>[mental health support]</td>\n",
       "      <td>[surgical facilities]</td>\n",
       "      <td>[medical equipment available]</td>\n",
       "      <td>[earthquake, hurricane, pandemic, tsunami]</td>\n",
       "    </tr>\n",
       "    <tr>\n",
       "      <th>1</th>\n",
       "      <td>{'lat': 24.7317574303097, 'long': 70.063284321...</td>\n",
       "      <td>[medium]</td>\n",
       "      <td>[small]</td>\n",
       "      <td>[food and water]</td>\n",
       "      <td>[available]</td>\n",
       "      <td>[fire response, medical, mental health support...</td>\n",
       "      <td>[intensive care units]</td>\n",
       "      <td>[pharmaceuticals available]</td>\n",
       "      <td>[earthquake, flood, pandemic, tsunami]</td>\n",
       "    </tr>\n",
       "    <tr>\n",
       "      <th>2</th>\n",
       "      <td>{'lat': 27.882317000137803, 'long': 86.6591534...</td>\n",
       "      <td>[low]</td>\n",
       "      <td>[small]</td>\n",
       "      <td>[food and water, medical care, transportation]</td>\n",
       "      <td>[almost full]</td>\n",
       "      <td>[fire response, medical, mental health support...</td>\n",
       "      <td>[intensive care units, surgical facilities]</td>\n",
       "      <td>[pharmaceuticals available]</td>\n",
       "      <td>[earthquake, flood]</td>\n",
       "    </tr>\n",
       "    <tr>\n",
       "      <th>3</th>\n",
       "      <td>{'lat': 23.369818512166894, 'long': 94.1749278...</td>\n",
       "      <td>[low]</td>\n",
       "      <td>[medium]</td>\n",
       "      <td>[counseling, food and water, language assistan...</td>\n",
       "      <td>[almost full]</td>\n",
       "      <td>[fire response, mental health support, search ...</td>\n",
       "      <td>[basic first aid, intensive care units, pediat...</td>\n",
       "      <td>[well-stocked]</td>\n",
       "      <td>[earthquake, fire, pandemic, tsunami]</td>\n",
       "    </tr>\n",
       "    <tr>\n",
       "      <th>4</th>\n",
       "      <td>{'lat': 24.192323691853876, 'long': 86.4885913...</td>\n",
       "      <td>[high]</td>\n",
       "      <td>[large]</td>\n",
       "      <td>[counseling, food and water, medical care, tra...</td>\n",
       "      <td>[full]</td>\n",
       "      <td>[fire response, medical, mental health support...</td>\n",
       "      <td>[basic first aid, intensive care units, pediat...</td>\n",
       "      <td>[limited supplies]</td>\n",
       "      <td>[earthquake, fire, flood, pandemic, tsunami]</td>\n",
       "    </tr>\n",
       "    <tr>\n",
       "      <th>...</th>\n",
       "      <td>...</td>\n",
       "      <td>...</td>\n",
       "      <td>...</td>\n",
       "      <td>...</td>\n",
       "      <td>...</td>\n",
       "      <td>...</td>\n",
       "      <td>...</td>\n",
       "      <td>...</td>\n",
       "      <td>...</td>\n",
       "    </tr>\n",
       "    <tr>\n",
       "      <th>95</th>\n",
       "      <td>{'lat': 6.084204414853288, 'long': 81.78673479...</td>\n",
       "      <td>[low]</td>\n",
       "      <td>[small]</td>\n",
       "      <td>[language assistance]</td>\n",
       "      <td>[almost full]</td>\n",
       "      <td>[fire response, mental health support]</td>\n",
       "      <td>[intensive care units, pediatric care, surgica...</td>\n",
       "      <td>[well-stocked]</td>\n",
       "      <td>[earthquake, tsunami]</td>\n",
       "    </tr>\n",
       "    <tr>\n",
       "      <th>96</th>\n",
       "      <td>{'lat': 15.414160779758326, 'long': 85.5456370...</td>\n",
       "      <td>[high]</td>\n",
       "      <td>[medium]</td>\n",
       "      <td>[counseling, food and water, medical care]</td>\n",
       "      <td>[temporarily unavailable]</td>\n",
       "      <td>[fire response, search and rescue]</td>\n",
       "      <td>[basic first aid, intensive care units, pediat...</td>\n",
       "      <td>[pharmaceuticals available]</td>\n",
       "      <td>[earthquake, fire, flood, hurricane, pandemic,...</td>\n",
       "    </tr>\n",
       "    <tr>\n",
       "      <th>97</th>\n",
       "      <td>{'lat': 8.314710190576328, 'long': 95.43413247...</td>\n",
       "      <td>[low]</td>\n",
       "      <td>[small]</td>\n",
       "      <td>[counseling, food and water, language assistan...</td>\n",
       "      <td>[temporarily unavailable]</td>\n",
       "      <td>[medical, search and rescue]</td>\n",
       "      <td>[surgical facilities, trauma care]</td>\n",
       "      <td>[pharmaceuticals available]</td>\n",
       "      <td>[earthquake, fire, flood, hurricane, pandemic,...</td>\n",
       "    </tr>\n",
       "    <tr>\n",
       "      <th>98</th>\n",
       "      <td>{'lat': 19.70285331992752, 'long': 91.41626550...</td>\n",
       "      <td>[medium]</td>\n",
       "      <td>[small]</td>\n",
       "      <td>[counseling, food and water, medical care, tra...</td>\n",
       "      <td>[full]</td>\n",
       "      <td>[fire response, medical, mental health support...</td>\n",
       "      <td>[basic first aid, intensive care units, pediat...</td>\n",
       "      <td>[pharmaceuticals available]</td>\n",
       "      <td>[earthquake, flood, pandemic]</td>\n",
       "    </tr>\n",
       "    <tr>\n",
       "      <th>99</th>\n",
       "      <td>{'lat': 30.62152061286672, 'long': 68.43303795...</td>\n",
       "      <td>[low]</td>\n",
       "      <td>[medium]</td>\n",
       "      <td>[counseling, food and water, language assistan...</td>\n",
       "      <td>[available]</td>\n",
       "      <td>[fire response, mental health support, search ...</td>\n",
       "      <td>[pediatric care, surgical facilities, trauma c...</td>\n",
       "      <td>[pharmaceuticals available]</td>\n",
       "      <td>[fire, hurricane, tsunami]</td>\n",
       "    </tr>\n",
       "  </tbody>\n",
       "</table>\n",
       "<p>100 rows × 9 columns</p>\n",
       "</div>"
      ],
      "text/plain": [
       "                                             Location  Severity  Capacity   \n",
       "0   {'lat': 9.736469432403734, 'long': 81.96167343...     [low]   [small]  \\\n",
       "1   {'lat': 24.7317574303097, 'long': 70.063284321...  [medium]   [small]   \n",
       "2   {'lat': 27.882317000137803, 'long': 86.6591534...     [low]   [small]   \n",
       "3   {'lat': 23.369818512166894, 'long': 94.1749278...     [low]  [medium]   \n",
       "4   {'lat': 24.192323691853876, 'long': 86.4885913...    [high]   [large]   \n",
       "..                                                ...       ...       ...   \n",
       "95  {'lat': 6.084204414853288, 'long': 81.78673479...     [low]   [small]   \n",
       "96  {'lat': 15.414160779758326, 'long': 85.5456370...    [high]  [medium]   \n",
       "97  {'lat': 8.314710190576328, 'long': 95.43413247...     [low]   [small]   \n",
       "98  {'lat': 19.70285331992752, 'long': 91.41626550...  [medium]   [small]   \n",
       "99  {'lat': 30.62152061286672, 'long': 68.43303795...     [low]  [medium]   \n",
       "\n",
       "                                             Services   \n",
       "0   [food and water, language assistance, medical ...  \\\n",
       "1                                    [food and water]   \n",
       "2      [food and water, medical care, transportation]   \n",
       "3   [counseling, food and water, language assistan...   \n",
       "4   [counseling, food and water, medical care, tra...   \n",
       "..                                                ...   \n",
       "95                              [language assistance]   \n",
       "96         [counseling, food and water, medical care]   \n",
       "97  [counseling, food and water, language assistan...   \n",
       "98  [counseling, food and water, medical care, tra...   \n",
       "99  [counseling, food and water, language assistan...   \n",
       "\n",
       "                 Availability   \n",
       "0                 [available]  \\\n",
       "1                 [available]   \n",
       "2               [almost full]   \n",
       "3               [almost full]   \n",
       "4                      [full]   \n",
       "..                        ...   \n",
       "95              [almost full]   \n",
       "96  [temporarily unavailable]   \n",
       "97  [temporarily unavailable]   \n",
       "98                     [full]   \n",
       "99                [available]   \n",
       "\n",
       "                                       Specialization   \n",
       "0                             [mental health support]  \\\n",
       "1   [fire response, medical, mental health support...   \n",
       "2   [fire response, medical, mental health support...   \n",
       "3   [fire response, mental health support, search ...   \n",
       "4   [fire response, medical, mental health support...   \n",
       "..                                                ...   \n",
       "95             [fire response, mental health support]   \n",
       "96                 [fire response, search and rescue]   \n",
       "97                       [medical, search and rescue]   \n",
       "98  [fire response, medical, mental health support...   \n",
       "99  [fire response, mental health support, search ...   \n",
       "\n",
       "                                     Medical Facility   \n",
       "0                               [surgical facilities]  \\\n",
       "1                              [intensive care units]   \n",
       "2         [intensive care units, surgical facilities]   \n",
       "3   [basic first aid, intensive care units, pediat...   \n",
       "4   [basic first aid, intensive care units, pediat...   \n",
       "..                                                ...   \n",
       "95  [intensive care units, pediatric care, surgica...   \n",
       "96  [basic first aid, intensive care units, pediat...   \n",
       "97                 [surgical facilities, trauma care]   \n",
       "98  [basic first aid, intensive care units, pediat...   \n",
       "99  [pediatric care, surgical facilities, trauma c...   \n",
       "\n",
       "              Supply and Resource   \n",
       "0   [medical equipment available]  \\\n",
       "1     [pharmaceuticals available]   \n",
       "2     [pharmaceuticals available]   \n",
       "3                  [well-stocked]   \n",
       "4              [limited supplies]   \n",
       "..                            ...   \n",
       "95                 [well-stocked]   \n",
       "96    [pharmaceuticals available]   \n",
       "97    [pharmaceuticals available]   \n",
       "98    [pharmaceuticals available]   \n",
       "99    [pharmaceuticals available]   \n",
       "\n",
       "                                           calamities  \n",
       "0          [earthquake, hurricane, pandemic, tsunami]  \n",
       "1              [earthquake, flood, pandemic, tsunami]  \n",
       "2                                 [earthquake, flood]  \n",
       "3               [earthquake, fire, pandemic, tsunami]  \n",
       "4        [earthquake, fire, flood, pandemic, tsunami]  \n",
       "..                                                ...  \n",
       "95                              [earthquake, tsunami]  \n",
       "96  [earthquake, fire, flood, hurricane, pandemic,...  \n",
       "97  [earthquake, fire, flood, hurricane, pandemic,...  \n",
       "98                      [earthquake, flood, pandemic]  \n",
       "99                         [fire, hurricane, tsunami]  \n",
       "\n",
       "[100 rows x 9 columns]"
      ]
     },
     "execution_count": 17,
     "metadata": {},
     "output_type": "execute_result"
    }
   ],
   "source": [
    "df"
   ]
  },
  {
   "cell_type": "code",
   "execution_count": 18,
   "metadata": {},
   "outputs": [],
   "source": [
    "from scipy.spatial.distance import cosine\n",
    "from sklearn.preprocessing import StandardScaler\n",
    "scaler = StandardScaler()"
   ]
  },
  {
   "cell_type": "code",
   "execution_count": 19,
   "metadata": {},
   "outputs": [],
   "source": [
    "def similarity(user,rescue):\n",
    "    point1=np.array([user['Location']['lat'],user['Location']['long']])\n",
    "    point2=np.array([rescue['Location']['lat'],rescue['Location']['long']])\n",
    "    dist=np.linalg.norm(point1 - point2)\n",
    "    cos_dist=cosine(user['Location']['lat'],rescue['Location']['lat'])\n",
    "    cos_dist+=cosine(user['Location']['long'],rescue['Location']['long'])\n",
    "    sev=cosine(user['Severity'],rescue['Severity'])\n",
    "    cap=cosine(user['Capacity'],rescue['Capacity'])\n",
    "    serv=cosine(user['Service'],rescue['Services'])\n",
    "    spec=cosine(user['Specialization'],rescue['Specialization'])\n",
    "    med=cosine(user['Medical Facility'],rescue['Medical Facility'])\n",
    "    suppy_and_rescource=cosine(user['Supply and Resource'],rescue['Supply and Resource'])\n",
    "    cal=cosine(user['calamities'],rescue['calamities'])\n",
    "    \n",
    "    dist=dist/100\n",
    "    \n",
    "    similarities = np.array([0.9*dist,0.8*sev,0.5*cap,0.3*serv,0.5*spec,0.2*med,0.2*suppy_and_rescource, 0.4*cal])\n",
    "    return dist ,similarities \n",
    "    "
   ]
  },
  {
   "cell_type": "code",
   "execution_count": 50,
   "metadata": {},
   "outputs": [],
   "source": [
    "def encoder(values,labels):\n",
    "    l=np.zeros(len(labels))\n",
    "    for i in range(len(labels)):\n",
    "        if labels[i]  in values:\n",
    "            l[i]=1\n",
    "    return l"
   ]
  },
  {
   "cell_type": "code",
   "execution_count": 51,
   "metadata": {},
   "outputs": [],
   "source": [
    "def process(user):\n",
    "    user_={\n",
    "        'Location':user['Location'],\n",
    "        'Severity': encoder(user['Severity'],severity),\n",
    "        'Capacity': encoder(user['Capacity'],capacity),\n",
    "        'Service':encoder(user['Service'],services),\n",
    "        'Specialization': encoder(user['Specialization'],specialization),\n",
    "        'Medical Facility':encoder(user['Medical Facility'],medical_facility),\n",
    "        'Supply and Resource':encoder(user['Supply and Resource'],supply_and_resource),\n",
    "        'calamities':encoder(user['calamities'],calamities)\n",
    "    }\n",
    "    \n",
    "    return user_"
   ]
  },
  {
   "cell_type": "code",
   "execution_count": 52,
   "metadata": {},
   "outputs": [],
   "source": [
    "def similarity_search(user,df,df_one_hot,k=3):\n",
    "    dist=[]\n",
    "    user_=process(user)\n",
    "    print(\"*\")\n",
    "    for i in range(len(df)):\n",
    "        rescue=df_one_hot.iloc[i].to_dict()\n",
    "        si=similarity(user_,rescue)\n",
    "        \n",
    "        dist.append((i,si[0],si[1],np.sum(si[1])))\n",
    "        \n",
    "    dist=np.array(dist)\n",
    "    dist_id=np.argsort(dist[:,-1])   \n",
    "    dist=dist[dist_id[:k]]\n",
    "    \n",
    "    user_df = pd.DataFrame.from_dict({key: [value] for key, value in user.items()})\n",
    "    top_k1=[]\n",
    "    for i in dist_id[:k]:\n",
    "        top_k1.append(df.iloc[i].to_dict())\n",
    "    top_k2=[]\n",
    "    for i in dist_id[:k]:\n",
    "        top_k2.append(df_one_hot.iloc[i].to_dict())\n",
    "        \n",
    "    rescue_df=pd.DataFrame(top_k1)\n",
    "    rescue_df_one_hot=pd.DataFrame(top_k2)\n",
    "\n",
    "    \n",
    "    return dist , user_df ,rescue_df,rescue_df_one_hot"
   ]
  },
  {
   "cell_type": "code",
   "execution_count": 53,
   "metadata": {},
   "outputs": [],
   "source": [
    "user={\n",
    "    'Location':{\n",
    "        'lat':26,\n",
    "        'long':80\n",
    "    },\n",
    "    'Severity': ['high'],\n",
    "    'Capacity': ['large'],\n",
    "    'Service':['medical care','food and water'],\n",
    "    'Specialization': ['medical'],\n",
    "    'Medical Facility': ['intensive care units'],\n",
    "    'Supply and Resource':['pharmaceutical available'],\n",
    "    'calamities': ['pandemic']\n",
    "}"
   ]
  },
  {
   "cell_type": "code",
   "execution_count": 54,
   "metadata": {},
   "outputs": [
    {
     "name": "stdout",
     "output_type": "stream",
     "text": [
      "*\n"
     ]
    },
    {
     "name": "stderr",
     "output_type": "stream",
     "text": [
      "c:\\Users\\nagas\\anaconda3\\envs\\gpu\\lib\\site-packages\\scipy\\spatial\\distance.py:630: RuntimeWarning: invalid value encountered in double_scalars\n",
      "  dist = 1.0 - uv / np.sqrt(uu * vv)\n",
      "C:\\Users\\nagas\\AppData\\Local\\Temp\\ipykernel_31572\\1301299703.py:11: VisibleDeprecationWarning: Creating an ndarray from ragged nested sequences (which is a list-or-tuple of lists-or-tuples-or ndarrays with different lengths or shapes) is deprecated. If you meant to do this, you must specify 'dtype=object' when creating the ndarray.\n",
      "  dist=np.array(dist)\n"
     ]
    }
   ],
   "source": [
    "dist, user_df, rescue_df,rescue_df_one_hot=similarity_search(user,df,df_one_hot)"
   ]
  },
  {
   "cell_type": "code",
   "execution_count": 55,
   "metadata": {},
   "outputs": [
    {
     "data": {
      "text/html": [
       "<div>\n",
       "<style scoped>\n",
       "    .dataframe tbody tr th:only-of-type {\n",
       "        vertical-align: middle;\n",
       "    }\n",
       "\n",
       "    .dataframe tbody tr th {\n",
       "        vertical-align: top;\n",
       "    }\n",
       "\n",
       "    .dataframe thead th {\n",
       "        text-align: right;\n",
       "    }\n",
       "</style>\n",
       "<table border=\"1\" class=\"dataframe\">\n",
       "  <thead>\n",
       "    <tr style=\"text-align: right;\">\n",
       "      <th></th>\n",
       "      <th>Location</th>\n",
       "      <th>Severity</th>\n",
       "      <th>Capacity</th>\n",
       "      <th>Service</th>\n",
       "      <th>Specialization</th>\n",
       "      <th>Medical Facility</th>\n",
       "      <th>Supply and Resource</th>\n",
       "      <th>calamities</th>\n",
       "    </tr>\n",
       "  </thead>\n",
       "  <tbody>\n",
       "    <tr>\n",
       "      <th>0</th>\n",
       "      <td>{'lat': 26, 'long': 80}</td>\n",
       "      <td>[high]</td>\n",
       "      <td>[large]</td>\n",
       "      <td>[medical care, food and water]</td>\n",
       "      <td>[medical]</td>\n",
       "      <td>[intensive care units]</td>\n",
       "      <td>[pharmaceutical available]</td>\n",
       "      <td>[pandemic]</td>\n",
       "    </tr>\n",
       "  </tbody>\n",
       "</table>\n",
       "</div>"
      ],
      "text/plain": [
       "                  Location Severity Capacity                         Service   \n",
       "0  {'lat': 26, 'long': 80}   [high]  [large]  [medical care, food and water]  \\\n",
       "\n",
       "  Specialization        Medical Facility         Supply and Resource   \n",
       "0      [medical]  [intensive care units]  [pharmaceutical available]  \\\n",
       "\n",
       "   calamities  \n",
       "0  [pandemic]  "
      ]
     },
     "execution_count": 55,
     "metadata": {},
     "output_type": "execute_result"
    }
   ],
   "source": [
    "user_df"
   ]
  },
  {
   "cell_type": "code",
   "execution_count": 56,
   "metadata": {},
   "outputs": [
    {
     "data": {
      "text/html": [
       "<div>\n",
       "<style scoped>\n",
       "    .dataframe tbody tr th:only-of-type {\n",
       "        vertical-align: middle;\n",
       "    }\n",
       "\n",
       "    .dataframe tbody tr th {\n",
       "        vertical-align: top;\n",
       "    }\n",
       "\n",
       "    .dataframe thead th {\n",
       "        text-align: right;\n",
       "    }\n",
       "</style>\n",
       "<table border=\"1\" class=\"dataframe\">\n",
       "  <thead>\n",
       "    <tr style=\"text-align: right;\">\n",
       "      <th></th>\n",
       "      <th>Location</th>\n",
       "      <th>Severity</th>\n",
       "      <th>Capacity</th>\n",
       "      <th>Services</th>\n",
       "      <th>Availability</th>\n",
       "      <th>Specialization</th>\n",
       "      <th>Medical Facility</th>\n",
       "      <th>Supply and Resource</th>\n",
       "      <th>calamities</th>\n",
       "    </tr>\n",
       "  </thead>\n",
       "  <tbody>\n",
       "    <tr>\n",
       "      <th>0</th>\n",
       "      <td>{'lat': 13.067770669173896, 'long': 80.3870950...</td>\n",
       "      <td>[high]</td>\n",
       "      <td>[large]</td>\n",
       "      <td>[medical care, transportation]</td>\n",
       "      <td>[full]</td>\n",
       "      <td>[medical]</td>\n",
       "      <td>[basic first aid, intensive care units, pediat...</td>\n",
       "      <td>[pharmaceuticals available]</td>\n",
       "      <td>[fire, flood, hurricane, pandemic]</td>\n",
       "    </tr>\n",
       "    <tr>\n",
       "      <th>1</th>\n",
       "      <td>{'lat': 16.65867638060273, 'long': 90.52742575...</td>\n",
       "      <td>[high]</td>\n",
       "      <td>[large]</td>\n",
       "      <td>[food and water]</td>\n",
       "      <td>[almost full]</td>\n",
       "      <td>[fire response, medical, mental health support...</td>\n",
       "      <td>[basic first aid, intensive care units, surgic...</td>\n",
       "      <td>[well-stocked]</td>\n",
       "      <td>[earthquake, flood, pandemic]</td>\n",
       "    </tr>\n",
       "    <tr>\n",
       "      <th>2</th>\n",
       "      <td>{'lat': 21.920317558187218, 'long': 95.1446697...</td>\n",
       "      <td>[high]</td>\n",
       "      <td>[large]</td>\n",
       "      <td>[counseling, medical care, transportation]</td>\n",
       "      <td>[temporarily unavailable]</td>\n",
       "      <td>[medical, mental health support]</td>\n",
       "      <td>[intensive care units, pediatric care, surgica...</td>\n",
       "      <td>[limited supplies]</td>\n",
       "      <td>[earthquake, fire, flood, pandemic, tsunami]</td>\n",
       "    </tr>\n",
       "  </tbody>\n",
       "</table>\n",
       "</div>"
      ],
      "text/plain": [
       "                                            Location Severity Capacity   \n",
       "0  {'lat': 13.067770669173896, 'long': 80.3870950...   [high]  [large]  \\\n",
       "1  {'lat': 16.65867638060273, 'long': 90.52742575...   [high]  [large]   \n",
       "2  {'lat': 21.920317558187218, 'long': 95.1446697...   [high]  [large]   \n",
       "\n",
       "                                     Services               Availability   \n",
       "0              [medical care, transportation]                     [full]  \\\n",
       "1                            [food and water]              [almost full]   \n",
       "2  [counseling, medical care, transportation]  [temporarily unavailable]   \n",
       "\n",
       "                                      Specialization   \n",
       "0                                          [medical]  \\\n",
       "1  [fire response, medical, mental health support...   \n",
       "2                   [medical, mental health support]   \n",
       "\n",
       "                                    Medical Facility   \n",
       "0  [basic first aid, intensive care units, pediat...  \\\n",
       "1  [basic first aid, intensive care units, surgic...   \n",
       "2  [intensive care units, pediatric care, surgica...   \n",
       "\n",
       "           Supply and Resource                                    calamities  \n",
       "0  [pharmaceuticals available]            [fire, flood, hurricane, pandemic]  \n",
       "1               [well-stocked]                 [earthquake, flood, pandemic]  \n",
       "2           [limited supplies]  [earthquake, fire, flood, pandemic, tsunami]  "
      ]
     },
     "execution_count": 56,
     "metadata": {},
     "output_type": "execute_result"
    }
   ],
   "source": [
    "rescue_df"
   ]
  },
  {
   "cell_type": "code",
   "execution_count": 57,
   "metadata": {},
   "outputs": [],
   "source": [
    "import matplotlib.pyplot as plt\n",
    "import seaborn as sns\n",
    "sns.set(style='darkgrid')"
   ]
  },
  {
   "cell_type": "code",
   "execution_count": 58,
   "metadata": {},
   "outputs": [],
   "source": [
    "x=[]\n",
    "y=[]\n",
    "for i in range(len(df)):\n",
    "    x.append(df.iloc[i]['Location']['lat'])\n",
    "    y.append(df.iloc[i]['Location']['long'])"
   ]
  },
  {
   "cell_type": "code",
   "execution_count": 59,
   "metadata": {},
   "outputs": [
    {
     "data": {
      "text/plain": [
       "<matplotlib.collections.PathCollection at 0x21c59cad6d0>"
      ]
     },
     "execution_count": 59,
     "metadata": {},
     "output_type": "execute_result"
    },
    {
     "data": {
      "image/png": "[encoded data removed]",
      "text/plain": [
       "<Figure size 640x480 with 1 Axes>"
      ]
     },
     "metadata": {},
     "output_type": "display_data"
    }
   ],
   "source": [
    "plt.scatter(x,y)\n",
    "plt.scatter(rescue_df.iloc[0]['Location']['lat'],rescue_df.iloc[0]['Location']['long'],color='green')\n",
    "plt.scatter(rescue_df.iloc[1]['Location']['lat'],rescue_df.iloc[1]['Location']['long'],color='blue')\n",
    "plt.scatter(rescue_df.iloc[2]['Location']['lat'],rescue_df.iloc[2]['Location']['long'],color='black')\n",
    "plt.scatter(user['Location']['lat'],user['Location']['long'],color='red')"
   ]
  },
  {
   "cell_type": "code",
   "execution_count": 60,
   "metadata": {},
   "outputs": [
    {
     "ename": "NameError",
     "evalue": "name 'scaled_data' is not defined",
     "output_type": "error",
     "traceback": [
      "\u001b[1;31m---------------------------------------------------------------------------\u001b[0m",
      "\u001b[1;31mNameError\u001b[0m                                 Traceback (most recent call last)",
      "Cell \u001b[1;32mIn[60], line 1\u001b[0m\n\u001b[1;32m----> 1\u001b[0m scaled_data\n",
      "\u001b[1;31mNameError\u001b[0m: name 'scaled_data' is not defined"
     ]
    }
   ],
   "source": [
    "scaled_data"
   ]
  },
  {
   "cell_type": "code",
   "execution_count": null,
   "metadata": {},
   "outputs": [
    {
     "data": {
      "text/html": [
       "<div>\n",
       "<style scoped>\n",
       "    .dataframe tbody tr th:only-of-type {\n",
       "        vertical-align: middle;\n",
       "    }\n",
       "\n",
       "    .dataframe tbody tr th {\n",
       "        vertical-align: top;\n",
       "    }\n",
       "\n",
       "    .dataframe thead th {\n",
       "        text-align: right;\n",
       "    }\n",
       "</style>\n",
       "<table border=\"1\" class=\"dataframe\">\n",
       "  <thead>\n",
       "    <tr style=\"text-align: right;\">\n",
       "      <th></th>\n",
       "      <th>Location</th>\n",
       "      <th>Severity</th>\n",
       "      <th>Capacity</th>\n",
       "      <th>Services</th>\n",
       "      <th>Availability</th>\n",
       "      <th>Specialization</th>\n",
       "      <th>Medical Facility</th>\n",
       "      <th>Supply and Resource</th>\n",
       "      <th>calamities</th>\n",
       "    </tr>\n",
       "  </thead>\n",
       "  <tbody>\n",
       "    <tr>\n",
       "      <th>0</th>\n",
       "      <td>{'lat': 15.689045265226465, 'long': 80.8366732...</td>\n",
       "      <td>[high]</td>\n",
       "      <td>[medium]</td>\n",
       "      <td>[counseling, food and water, language assistan...</td>\n",
       "      <td>[full]</td>\n",
       "      <td>[search and rescue]</td>\n",
       "      <td>[basic first aid]</td>\n",
       "      <td>[medical equipment available]</td>\n",
       "      <td>[fire, flood, hurricane, pandemic, tsunami]</td>\n",
       "    </tr>\n",
       "    <tr>\n",
       "      <th>1</th>\n",
       "      <td>{'lat': 35.568359414945206, 'long': 88.2603043...</td>\n",
       "      <td>[low]</td>\n",
       "      <td>[small]</td>\n",
       "      <td>[counseling, transportation]</td>\n",
       "      <td>[full]</td>\n",
       "      <td>[mental health support, search and rescue]</td>\n",
       "      <td>[intensive care units, trauma care]</td>\n",
       "      <td>[medical equipment available]</td>\n",
       "      <td>[flood]</td>\n",
       "    </tr>\n",
       "    <tr>\n",
       "      <th>2</th>\n",
       "      <td>{'lat': 33.33686901546834, 'long': 88.92208565...</td>\n",
       "      <td>[high]</td>\n",
       "      <td>[medium]</td>\n",
       "      <td>[counseling, food and water, language assistan...</td>\n",
       "      <td>[available]</td>\n",
       "      <td>[fire response, medical, mental health support...</td>\n",
       "      <td>[basic first aid, intensive care units, surgic...</td>\n",
       "      <td>[well-stocked]</td>\n",
       "      <td>[fire, pandemic]</td>\n",
       "    </tr>\n",
       "    <tr>\n",
       "      <th>3</th>\n",
       "      <td>{'lat': 24.12239489162407, 'long': 75.87855769...</td>\n",
       "      <td>[low]</td>\n",
       "      <td>[medium]</td>\n",
       "      <td>[food and water, language assistance, transpor...</td>\n",
       "      <td>[full]</td>\n",
       "      <td>[fire response, medical, mental health support]</td>\n",
       "      <td>[basic first aid, intensive care units, pediat...</td>\n",
       "      <td>[medical equipment available]</td>\n",
       "      <td>[earthquake, fire, flood, hurricane, pandemic,...</td>\n",
       "    </tr>\n",
       "    <tr>\n",
       "      <th>4</th>\n",
       "      <td>{'lat': 14.62759577987097, 'long': 74.31083791...</td>\n",
       "      <td>[high]</td>\n",
       "      <td>[large]</td>\n",
       "      <td>[counseling, food and water, language assistan...</td>\n",
       "      <td>[temporarily unavailable]</td>\n",
       "      <td>[fire response, mental health support, search ...</td>\n",
       "      <td>[surgical facilities]</td>\n",
       "      <td>[limited supplies]</td>\n",
       "      <td>[hurricane]</td>\n",
       "    </tr>\n",
       "    <tr>\n",
       "      <th>...</th>\n",
       "      <td>...</td>\n",
       "      <td>...</td>\n",
       "      <td>...</td>\n",
       "      <td>...</td>\n",
       "      <td>...</td>\n",
       "      <td>...</td>\n",
       "      <td>...</td>\n",
       "      <td>...</td>\n",
       "      <td>...</td>\n",
       "    </tr>\n",
       "    <tr>\n",
       "      <th>95</th>\n",
       "      <td>{'lat': 14.251272552766727, 'long': 73.6280474...</td>\n",
       "      <td>[low]</td>\n",
       "      <td>[large]</td>\n",
       "      <td>[counseling, food and water, language assistan...</td>\n",
       "      <td>[almost full]</td>\n",
       "      <td>[fire response, medical, mental health support...</td>\n",
       "      <td>[trauma care]</td>\n",
       "      <td>[pharmaceuticals available]</td>\n",
       "      <td>[earthquake]</td>\n",
       "    </tr>\n",
       "    <tr>\n",
       "      <th>96</th>\n",
       "      <td>{'lat': 15.313583176715701, 'long': 73.5162235...</td>\n",
       "      <td>[high]</td>\n",
       "      <td>[small]</td>\n",
       "      <td>[counseling, transportation]</td>\n",
       "      <td>[available]</td>\n",
       "      <td>[fire response, medical, mental health support...</td>\n",
       "      <td>[basic first aid, intensive care units, pediat...</td>\n",
       "      <td>[limited supplies]</td>\n",
       "      <td>[earthquake, fire, pandemic]</td>\n",
       "    </tr>\n",
       "    <tr>\n",
       "      <th>97</th>\n",
       "      <td>{'lat': 28.940915999338785, 'long': 86.1494599...</td>\n",
       "      <td>[low]</td>\n",
       "      <td>[medium]</td>\n",
       "      <td>[food and water, language assistance, medical ...</td>\n",
       "      <td>[available]</td>\n",
       "      <td>[fire response, mental health support]</td>\n",
       "      <td>[intensive care units, surgical facilities]</td>\n",
       "      <td>[medical equipment available]</td>\n",
       "      <td>[flood, hurricane, tsunami]</td>\n",
       "    </tr>\n",
       "    <tr>\n",
       "      <th>98</th>\n",
       "      <td>{'lat': 9.531845331436472, 'long': 92.35960195...</td>\n",
       "      <td>[low]</td>\n",
       "      <td>[large]</td>\n",
       "      <td>[counseling]</td>\n",
       "      <td>[available]</td>\n",
       "      <td>[medical, mental health support, search and re...</td>\n",
       "      <td>[surgical facilities]</td>\n",
       "      <td>[well-stocked]</td>\n",
       "      <td>[tsunami]</td>\n",
       "    </tr>\n",
       "    <tr>\n",
       "      <th>99</th>\n",
       "      <td>{'lat': 8.520318393648115, 'long': 88.88387361...</td>\n",
       "      <td>[high]</td>\n",
       "      <td>[large]</td>\n",
       "      <td>[food and water, language assistance, medical ...</td>\n",
       "      <td>[full]</td>\n",
       "      <td>[fire response, medical, mental health support...</td>\n",
       "      <td>[basic first aid, intensive care units, pediat...</td>\n",
       "      <td>[limited supplies]</td>\n",
       "      <td>[earthquake, flood, pandemic]</td>\n",
       "    </tr>\n",
       "  </tbody>\n",
       "</table>\n",
       "<p>100 rows × 9 columns</p>\n",
       "</div>"
      ],
      "text/plain": [
       "                                             Location Severity  Capacity   \n",
       "0   {'lat': 15.689045265226465, 'long': 80.8366732...   [high]  [medium]  \\\n",
       "1   {'lat': 35.568359414945206, 'long': 88.2603043...    [low]   [small]   \n",
       "2   {'lat': 33.33686901546834, 'long': 88.92208565...   [high]  [medium]   \n",
       "3   {'lat': 24.12239489162407, 'long': 75.87855769...    [low]  [medium]   \n",
       "4   {'lat': 14.62759577987097, 'long': 74.31083791...   [high]   [large]   \n",
       "..                                                ...      ...       ...   \n",
       "95  {'lat': 14.251272552766727, 'long': 73.6280474...    [low]   [large]   \n",
       "96  {'lat': 15.313583176715701, 'long': 73.5162235...   [high]   [small]   \n",
       "97  {'lat': 28.940915999338785, 'long': 86.1494599...    [low]  [medium]   \n",
       "98  {'lat': 9.531845331436472, 'long': 92.35960195...    [low]   [large]   \n",
       "99  {'lat': 8.520318393648115, 'long': 88.88387361...   [high]   [large]   \n",
       "\n",
       "                                             Services   \n",
       "0   [counseling, food and water, language assistan...  \\\n",
       "1                        [counseling, transportation]   \n",
       "2   [counseling, food and water, language assistan...   \n",
       "3   [food and water, language assistance, transpor...   \n",
       "4   [counseling, food and water, language assistan...   \n",
       "..                                                ...   \n",
       "95  [counseling, food and water, language assistan...   \n",
       "96                       [counseling, transportation]   \n",
       "97  [food and water, language assistance, medical ...   \n",
       "98                                       [counseling]   \n",
       "99  [food and water, language assistance, medical ...   \n",
       "\n",
       "                 Availability   \n",
       "0                      [full]  \\\n",
       "1                      [full]   \n",
       "2                 [available]   \n",
       "3                      [full]   \n",
       "4   [temporarily unavailable]   \n",
       "..                        ...   \n",
       "95              [almost full]   \n",
       "96                [available]   \n",
       "97                [available]   \n",
       "98                [available]   \n",
       "99                     [full]   \n",
       "\n",
       "                                       Specialization   \n",
       "0                                 [search and rescue]  \\\n",
       "1          [mental health support, search and rescue]   \n",
       "2   [fire response, medical, mental health support...   \n",
       "3     [fire response, medical, mental health support]   \n",
       "4   [fire response, mental health support, search ...   \n",
       "..                                                ...   \n",
       "95  [fire response, medical, mental health support...   \n",
       "96  [fire response, medical, mental health support...   \n",
       "97             [fire response, mental health support]   \n",
       "98  [medical, mental health support, search and re...   \n",
       "99  [fire response, medical, mental health support...   \n",
       "\n",
       "                                     Medical Facility   \n",
       "0                                   [basic first aid]  \\\n",
       "1                 [intensive care units, trauma care]   \n",
       "2   [basic first aid, intensive care units, surgic...   \n",
       "3   [basic first aid, intensive care units, pediat...   \n",
       "4                               [surgical facilities]   \n",
       "..                                                ...   \n",
       "95                                      [trauma care]   \n",
       "96  [basic first aid, intensive care units, pediat...   \n",
       "97        [intensive care units, surgical facilities]   \n",
       "98                              [surgical facilities]   \n",
       "99  [basic first aid, intensive care units, pediat...   \n",
       "\n",
       "              Supply and Resource   \n",
       "0   [medical equipment available]  \\\n",
       "1   [medical equipment available]   \n",
       "2                  [well-stocked]   \n",
       "3   [medical equipment available]   \n",
       "4              [limited supplies]   \n",
       "..                            ...   \n",
       "95    [pharmaceuticals available]   \n",
       "96             [limited supplies]   \n",
       "97  [medical equipment available]   \n",
       "98                 [well-stocked]   \n",
       "99             [limited supplies]   \n",
       "\n",
       "                                           calamities  \n",
       "0         [fire, flood, hurricane, pandemic, tsunami]  \n",
       "1                                             [flood]  \n",
       "2                                    [fire, pandemic]  \n",
       "3   [earthquake, fire, flood, hurricane, pandemic,...  \n",
       "4                                         [hurricane]  \n",
       "..                                                ...  \n",
       "95                                       [earthquake]  \n",
       "96                       [earthquake, fire, pandemic]  \n",
       "97                        [flood, hurricane, tsunami]  \n",
       "98                                          [tsunami]  \n",
       "99                      [earthquake, flood, pandemic]  \n",
       "\n",
       "[100 rows x 9 columns]"
      ]
     },
     "execution_count": 73,
     "metadata": {},
     "output_type": "execute_result"
    }
   ],
   "source": [
    "df"
   ]
  },
  {
   "cell_type": "code",
   "execution_count": null,
   "metadata": {},
   "outputs": [],
   "source": [
    "def preprocess_for_upload(data,top_k=3):\n",
    "    values=np.zeros((8,8))\n",
    "    values[0][0]=data['Location']['lat']\n",
    "    values[0][1]=data['Location']['long']\n",
    "        \n",
    "    values=encoder(data['Severity'],classes[0],values,1)\n",
    "    values=encoder(data['Capacity'],classes[1],values,2)\n",
    "    values=encoder(data['Service'],classes[2],values,3)\n",
    "    values=encoder(data['Specialization'],classes[4],values,4)\n",
    "    values=encoder(data['Medical Facility'],classes[5],values,5)\n",
    "    values=encoder(data['Supply and Resource'],classes[6],values,6)\n",
    "    values=encoder(data['calamities'],classes[7],values,7)\n",
    "\n",
    "    return values\n",
    "    \n",
    "def encoder(values,labels,array,j):\n",
    "    for i in range(len(labels)):\n",
    "        if labels[i]  in values:\n",
    "            array[j][i]=1\n",
    "    return l"
   ]
  },
  {
   "cell_type": "code",
   "execution_count": 18,
   "metadata": {},
   "outputs": [],
   "source": [
    "import pandas"
   ]
  },
  {
   "cell_type": "code",
   "execution_count": 19,
   "metadata": {},
   "outputs": [],
   "source": [
    "from pipeline.preprocessing.data_preprocessing import DataPreprocesser"
   ]
  },
  {
   "cell_type": "code",
   "execution_count": 20,
   "metadata": {},
   "outputs": [],
   "source": [
    "from pipeline.prediction.prediction import Prediction"
   ]
  },
  {
   "cell_type": "code",
   "execution_count": 21,
   "metadata": {},
   "outputs": [],
   "source": [
    "predictor=Prediction()"
   ]
  },
  {
   "cell_type": "code",
   "execution_count": 22,
   "metadata": {},
   "outputs": [],
   "source": [
    "all_data=[]\n",
    "for i in range(len(df)):\n",
    "    x=df.iloc[i].to_dict()\n",
    "    x['id']=i\n",
    "    all_data.append(x)"
   ]
  },
  {
   "cell_type": "code",
   "execution_count": 23,
   "metadata": {},
   "outputs": [],
   "source": [
    "user={\n",
    "    'id': 1010,\n",
    "    'Location':{\n",
    "        'lat':26,\n",
    "        'long':80\n",
    "    },\n",
    "    'Severity': ['medium'],\n",
    "    'Capacity': ['large'],\n",
    "    'Services':['medical care','food and water'],\n",
    "    'Specialization': ['medical'],\n",
    "    'Medical Facility': ['intensive care units'],\n",
    "    'Supply and Resource':['pharmaceutical available'],\n",
    "    'calamities': ['pandemic']\n",
    "}"
   ]
  },
  {
   "cell_type": "code",
   "execution_count": 24,
   "metadata": {},
   "outputs": [
    {
     "data": {
      "text/plain": [
       "{'id': 1010,\n",
       " 'Location': {'lat': 26, 'long': 80},\n",
       " 'Severity': ['medium'],\n",
       " 'Capacity': ['large'],\n",
       " 'Services': ['medical care', 'food and water'],\n",
       " 'Specialization': ['medical'],\n",
       " 'Medical Facility': ['intensive care units'],\n",
       " 'Supply and Resource': ['pharmaceutical available'],\n",
       " 'calamities': ['pandemic']}"
      ]
     },
     "execution_count": 24,
     "metadata": {},
     "output_type": "execute_result"
    }
   ],
   "source": [
    "user"
   ]
  },
  {
   "cell_type": "code",
   "execution_count": 25,
   "metadata": {},
   "outputs": [
    {
     "name": "stderr",
     "output_type": "stream",
     "text": [
      "d:\\pythonprojects\\ml-sih\\src\\pipeline\\prediction\\prediction.py:53: VisibleDeprecationWarning: Creating an ndarray from ragged nested sequences (which is a list-or-tuple of lists-or-tuples-or ndarrays with different lengths or shapes) is deprecated. If you meant to do this, you must specify 'dtype=object' when creating the ndarray.\n",
      "  scores=np.array(scores)\n"
     ]
    }
   ],
   "source": [
    "res=predictor.similarity_search(user,all_data)"
   ]
  },
  {
   "cell_type": "code",
   "execution_count": 26,
   "metadata": {},
   "outputs": [
    {
     "data": {
      "text/plain": [
       "array([[74,\n",
       "        (0.02550297815745417, array([0.02550298, 1.41421356, 0.        , 1.41421356, 1.41421356,\n",
       "               1.41421356, 1.        , 1.73205081]))                                            ],\n",
       "       [9,\n",
       "        (0.03081699710218371, array([0.030817  , 1.41421356, 0.        , 1.73205081, 2.        ,\n",
       "               1.41421356, 1.        , 1.73205081]))                                            ],\n",
       "       [31,\n",
       "        (0.0367280980338841, array([0.0367281 , 1.41421356, 1.41421356, 1.41421356, 2.        ,\n",
       "               2.        , 1.        , 1.41421356]))                                           ]],\n",
       "      dtype=object)"
      ]
     },
     "execution_count": 26,
     "metadata": {},
     "output_type": "execute_result"
    }
   ],
   "source": [
    "res"
   ]
  },
  {
   "cell_type": "code",
   "execution_count": 27,
   "metadata": {},
   "outputs": [
    {
     "data": {
      "text/plain": [
       "{'id': 1010,\n",
       " 'Location': {'lat': 26, 'long': 80},\n",
       " 'Severity': ['medium'],\n",
       " 'Capacity': ['large'],\n",
       " 'Services': ['medical care', 'food and water'],\n",
       " 'Specialization': ['medical'],\n",
       " 'Medical Facility': ['intensive care units'],\n",
       " 'Supply and Resource': ['pharmaceutical available'],\n",
       " 'calamities': ['pandemic']}"
      ]
     },
     "execution_count": 27,
     "metadata": {},
     "output_type": "execute_result"
    }
   ],
   "source": [
    "user"
   ]
  },
  {
   "cell_type": "code",
   "execution_count": 28,
   "metadata": {},
   "outputs": [],
   "source": [
    "from scipy.spatial.distance import jaccard"
   ]
  },
  {
   "cell_type": "code",
   "execution_count": 29,
   "metadata": {},
   "outputs": [
    {
     "data": {
      "text/plain": [
       "0.0"
      ]
     },
     "execution_count": 29,
     "metadata": {},
     "output_type": "execute_result"
    }
   ],
   "source": [
    "jaccard([1,1,1,0,1,1],[1,1,1,0,1,1])"
   ]
  },
  {
   "cell_type": "code",
   "execution_count": 30,
   "metadata": {},
   "outputs": [
    {
     "data": {
      "text/plain": [
       "{'id': 1010,\n",
       " 'Location': {'lat': 26, 'long': 80},\n",
       " 'Severity': ['medium'],\n",
       " 'Capacity': ['large'],\n",
       " 'Services': ['medical care', 'food and water'],\n",
       " 'Specialization': ['medical'],\n",
       " 'Medical Facility': ['intensive care units'],\n",
       " 'Supply and Resource': ['pharmaceutical available'],\n",
       " 'calamities': ['pandemic']}"
      ]
     },
     "execution_count": 30,
     "metadata": {},
     "output_type": "execute_result"
    }
   ],
   "source": [
    "user"
   ]
  },
  {
   "cell_type": "code",
   "execution_count": 31,
   "metadata": {},
   "outputs": [
    {
     "name": "stdout",
     "output_type": "stream",
     "text": [
      "{'Location': {'lat': 23.773436337557452, 'long': 78.75644332413586}, 'Severity': ['low'], 'Capacity': ['large'], 'Services': ['food and water', 'language assistance', 'medical care', 'transportation'], 'Availability': ['available'], 'Specialization': ['medical', 'search and rescue', 'water rescue'], 'Medical Facility': ['trauma care'], 'Supply and Resource': ['well-stocked'], 'calamities': ['earthquake', 'flood'], 'id': 74}\n",
      "\n",
      "\n",
      "{'Location': {'lat': 25.030878779741435, 'long': 77.07464922369905}, 'Severity': ['low'], 'Capacity': ['large'], 'Services': ['counseling', 'food and water', 'language assistance', 'medical care', 'transportation'], 'Availability': ['almost full'], 'Specialization': ['fire response', 'mental health support', 'search and rescue'], 'Medical Facility': ['basic first aid', 'intensive care units', 'surgical facilities'], 'Supply and Resource': ['well-stocked'], 'calamities': ['flood', 'hurricane'], 'id': 9}\n",
      "\n",
      "\n",
      "{'Location': {'lat': 25.65133417240856, 'long': 83.65622263990255}, 'Severity': ['high'], 'Capacity': ['small'], 'Services': ['food and water', 'language assistance', 'medical care', 'transportation'], 'Availability': ['available'], 'Specialization': ['fire response', 'medical', 'mental health support', 'search and rescue', 'water rescue'], 'Medical Facility': ['basic first aid', 'pediatric care', 'trauma care'], 'Supply and Resource': ['medical equipment available'], 'calamities': ['earthquake'], 'id': 31}\n",
      "\n",
      "\n"
     ]
    }
   ],
   "source": [
    "for i in range(3):\n",
    "    print(all_data[res[i][0]])\n",
    "    print()\n",
    "    print()"
   ]
  },
  {
   "cell_type": "code",
   "execution_count": 30,
   "metadata": {},
   "outputs": [],
   "source": [
    "from scipy.spatial.distance import hamming"
   ]
  },
  {
   "cell_type": "code",
   "execution_count": null,
   "metadata": {},
   "outputs": [
    {
     "data": {
      "text/plain": [
       "{'Severity': ['high', 'low', 'medium'],\n",
       " 'Capacity': ['large', 'medium', 'small'],\n",
       " 'Services': ['counseling',\n",
       "  'food and water',\n",
       "  'language assistance',\n",
       "  'medical care',\n",
       "  'transportation'],\n",
       " 'Availability': ['almost full',\n",
       "  'available',\n",
       "  'full',\n",
       "  'temporarily unavailable'],\n",
       " 'Specialization': ['fire response',\n",
       "  'medical',\n",
       "  'mental health support',\n",
       "  'search and rescue',\n",
       "  'water rescue'],\n",
       " 'Medical Facility': ['basic first aid',\n",
       "  'intensive care units',\n",
       "  'pediatric care',\n",
       "  'surgical facilities',\n",
       "  'trauma care'],\n",
       " 'Supply and Resource': ['limited supplies',\n",
       "  'medical equipment available',\n",
       "  'pharmaceuticals available',\n",
       "  'well-stocked'],\n",
       " 'calamities': ['earthquake',\n",
       "  'fire',\n",
       "  'flood',\n",
       "  'hurricane',\n",
       "  'pandemic',\n",
       "  'tsunami']}"
      ]
     },
     "execution_count": 86,
     "metadata": {},
     "output_type": "execute_result"
    }
   ],
   "source": [
    "predictor.classes"
   ]
  },
  {
   "cell_type": "code",
   "execution_count": null,
   "metadata": {},
   "outputs": [
    {
     "data": {
      "text/plain": [
       "[array(['high', 'low', 'medium'], dtype=object),\n",
       " array(['large', 'medium', 'small'], dtype=object),\n",
       " array(['counseling', 'food and water', 'language assistance',\n",
       "        'medical care', 'transportation'], dtype=object),\n",
       " array(['almost full', 'available', 'full', 'temporarily unavailable'],\n",
       "       dtype=object),\n",
       " array(['fire response', 'medical', 'mental health support',\n",
       "        'search and rescue', 'water rescue'], dtype=object),\n",
       " array(['basic first aid', 'intensive care units', 'pediatric care',\n",
       "        'surgical facilities', 'trauma care'], dtype=object),\n",
       " array(['limited supplies', 'medical equipment available',\n",
       "        'pharmaceuticals available', 'well-stocked'], dtype=object),\n",
       " array(['earthquake', 'fire', 'flood', 'hurricane', 'pandemic', 'tsunami'],\n",
       "       dtype=object)]"
      ]
     },
     "execution_count": 87,
     "metadata": {},
     "output_type": "execute_result"
    }
   ],
   "source": [
    "classes"
   ]
  },
  {
   "cell_type": "code",
   "execution_count": null,
   "metadata": {},
   "outputs": [
    {
     "data": {
      "text/plain": [
       "{'Severity': ['high', 'low', 'medium'],\n",
       " 'Capacity': ['large', 'medium', 'small'],\n",
       " 'Services': ['counseling',\n",
       "  'food and water',\n",
       "  'language assistance',\n",
       "  'medical care',\n",
       "  'transportation'],\n",
       " 'Availability': ['almost full',\n",
       "  'available',\n",
       "  'full',\n",
       "  'temporarily unavailable'],\n",
       " 'Specialization': ['fire response',\n",
       "  'medical',\n",
       "  'mental health support',\n",
       "  'search and rescue',\n",
       "  'water rescue'],\n",
       " 'Medical Facility': ['basic first aid',\n",
       "  'intensive care units',\n",
       "  'pediatric care',\n",
       "  'surgical facilities',\n",
       "  'trauma care'],\n",
       " 'Supply and Resource': ['limited supplies',\n",
       "  'medical equipment available',\n",
       "  'pharmaceuticals available',\n",
       "  'well-stocked'],\n",
       " 'calamities': ['earthquake',\n",
       "  'fire',\n",
       "  'flood',\n",
       "  'hurricane',\n",
       "  'pandemic',\n",
       "  'tsunami']}"
      ]
     },
     "execution_count": 88,
     "metadata": {},
     "output_type": "execute_result"
    }
   ],
   "source": [
    "predictor.classes"
   ]
  },
  {
   "cell_type": "code",
   "execution_count": null,
   "metadata": {},
   "outputs": [],
   "source": []
  },
  {
   "cell_type": "code",
   "execution_count": null,
   "metadata": {},
   "outputs": [],
   "source": []
  },
  {
   "cell_type": "code",
   "execution_count": null,
   "metadata": {},
   "outputs": [],
   "source": []
  },
  {
   "cell_type": "code",
   "execution_count": null,
   "metadata": {},
   "outputs": [],
   "source": []
  },
  {
   "cell_type": "code",
   "execution_count": null,
   "metadata": {},
   "outputs": [],
   "source": []
  },
  {
   "cell_type": "code",
   "execution_count": null,
   "metadata": {},
   "outputs": [],
   "source": []
  },
  {
   "cell_type": "code",
   "execution_count": null,
   "metadata": {},
   "outputs": [],
   "source": []
  }
 ],
 "metadata": {
  "kernelspec": {
   "display_name": "gpu",
   "language": "python",
   "name": "python3"
  },
  "language_info": {
   "codemirror_mode": {
    "name": "ipython",
    "version": 3
   },
   "file_extension": ".py",
   "mimetype": "text/x-python",
   "name": "python",
   "nbconvert_exporter": "python",
   "pygments_lexer": "ipython3",
   "version": "3.9.16"
  },
  "orig_nbformat": 4
 },
 "nbformat": 4,
 "nbformat_minor": 2
}
