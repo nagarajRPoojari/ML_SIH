{
 "cells": [
  {
   "cell_type": "code",
   "execution_count": null,
   "metadata": {},
   "outputs": [],
   "source": [
    "import pandas as pd \n",
    "import numpy as np\n",
    "import tensorflow as tf\n",
    "import sklearn as sk"
   ]
  },
  {
   "cell_type": "code",
   "execution_count": null,
   "metadata": {},
   "outputs": [],
   "source": [
    "# from user side\n",
    "\n",
    "# location\n",
    "# severity : low, medium , high\n",
    "# capacity-need : small, medium , large\n",
    "# service-need : food and water, shelter , evacuation , medical , fire , workforce , protection\n",
    "# specialization-need : medical , water rescue , search and rescue , fire responce ,  evacuation , earthquake-responce\n",
    "# medical-facilities-need : basic , trauma care , surgical facilities ,intensive care units\n",
    "# supplies and resources : low , high\n"
   ]
  },
  {
   "cell_type": "code",
   "execution_count": null,
   "metadata": {},
   "outputs": [],
   "source": [
    "# from rescue team side\n",
    "# location\n",
    "# severity : low , medium , high\n",
    "# capacity : small, medium , large\n",
    "# services : food and water, shelter , evacuation , medical , fire , workforce , protection\n",
    "# availability : available , full , temprarily unavailable\n",
    "# specialization : medical , water rescue , search and rescue , fire responce , evacuation ,earthquake-responce\n",
    "# medical facilities : basic , trauma care , surgical facilities ,intensive care units\n",
    "# supplies and resources : well-stocked , limited supplies "
   ]
  },
  {
   "cell_type": "code",
   "execution_count": null,
   "metadata": {},
   "outputs": [],
   "source": [
    "from random import choices , choice , randint , uniform, sample"
   ]
  },
  {
   "cell_type": "code",
   "execution_count": null,
   "metadata": {},
   "outputs": [],
   "source": [
    "sample([1,2,3,4,5,6],k=randint(1,6))"
   ]
  },
  {
   "cell_type": "code",
   "execution_count": null,
   "metadata": {},
   "outputs": [],
   "source": [
    "severity=['low','medium','high']\n",
    "capacity=['small','medium','high']\n",
    "services=['food and water','shelter','evacuation','medical','fire','workforce','protection']\n",
    "availability=['available','full','temprarily unavailable']\n",
    "specialization=['medical','water rescue' , 'search and rescue' , 'fire responce' , 'evacuation' ,'earthquake-responce']\n",
    "medical_facility=['basic' , 'trauma care' , 'surgical facilities' ,'intensive care units']\n",
    "supply_and_resource=['well-stocked' , 'limited supplies']"
   ]
  },
  {
   "cell_type": "code",
   "execution_count": null,
   "metadata": {},
   "outputs": [],
   "source": [
    "severity = [\"low\", \"medium\", \"high\"]\n",
    "capacity = [\"small\", \"medium\", \"large\"]\n",
    "services = [\"medical care\", \"food and water\", \"transportation\", \"language assistance\", \"counseling\"]\n",
    "availability = [\"available\", \"almost full\", \"full\", \"temporarily unavailable\"]\n",
    "specialization = [\"medical\", \"water rescue\", \"search and rescue\", \"fire response\", \"mental health support\"]\n",
    "medical_facility = [\"basic first aid\", \"trauma care\", \"surgical facilities\", \"intensive care units\", \"pediatric care\"]\n",
    "supply_and_resource = [\"well-stocked\", \"limited supplies\", \"medical equipment available\", \"pharmaceuticals available\"]\n",
    "calamities = [\"earthquake\", \"flood\", \"fire\", \"hurricane\", \"tsunami\", \"pandemic\"]\n"
   ]
  },
  {
   "cell_type": "code",
   "execution_count": null,
   "metadata": {},
   "outputs": [],
   "source": [
    "def generate(severity, capacity, services, availability, specialization, medical_facility, supply_and_resource, calamities):\n",
    "    loc = {\"lat\": uniform(6, 36), \"long\": uniform(68, 98)}\n",
    "    sev = sample(severity, k=1)\n",
    "    cap = sample(capacity, k=1)\n",
    "    serv = sample(services, k=randint(1, len(services)))\n",
    "    avail = sample(availability, k=1)\n",
    "    special = sample(specialization, k=randint(1, len(specialization)))\n",
    "    med = sample(medical_facility, k=randint(1, len(medical_facility)))\n",
    "    resource = sample(supply_and_resource, k=1)\n",
    "    calamity_needs = sample(calamities, k=randint(1, len(calamities)))\n",
    "    \n",
    "    return loc, sev, cap, serv, avail, special, med, resource, calamity_needs\n"
   ]
  },
  {
   "cell_type": "code",
   "execution_count": null,
   "metadata": {},
   "outputs": [],
   "source": [
    "\n",
    "data = [generate(severity, capacity, services, availability, specialization, medical_facility, supply_and_resource, calamities) for _ in range(100)]\n",
    "columns = [\"Location\", \"Severity\", \"Capacity\", \"Services\", \"Availability\", \"Specialization\", \"Medical Facility\", \"Supply and Resource\",\"calamities\"]\n",
    "df = pd.DataFrame(data, columns=columns)\n"
   ]
  },
  {
   "cell_type": "code",
   "execution_count": null,
   "metadata": {},
   "outputs": [],
   "source": [
    "from sklearn.preprocessing import LabelEncoder, OneHotEncoder"
   ]
  },
  {
   "cell_type": "code",
   "execution_count": null,
   "metadata": {},
   "outputs": [],
   "source": [
    "from sklearn.preprocessing import MultiLabelBinarizer\n",
    "one_hot_encoder=MultiLabelBinarizer()"
   ]
  },
  {
   "cell_type": "code",
   "execution_count": null,
   "metadata": {},
   "outputs": [],
   "source": [
    "df_one_hot=df.copy()"
   ]
  },
  {
   "cell_type": "code",
   "execution_count": null,
   "metadata": {},
   "outputs": [],
   "source": [
    "classes=[]"
   ]
  },
  {
   "cell_type": "code",
   "execution_count": null,
   "metadata": {},
   "outputs": [],
   "source": [
    "for column in columns[1:]:\n",
    "    label_arr=df[column].tolist()\n",
    "    one_hot_encoder=MultiLabelBinarizer()\n",
    "    one_hot=one_hot_encoder.fit_transform(label_arr)\n",
    "    classes.append(one_hot_encoder.classes_)\n",
    "    \n",
    "    ll=[list(i) for i in one_hot_encoder.inverse_transform(one_hot)]\n",
    "    \n",
    "    df[column]=ll\n",
    "    df_one_hot[column]=one_hot.tolist()\n",
    "    "
   ]
  },
  {
   "cell_type": "code",
   "execution_count": null,
   "metadata": {},
   "outputs": [],
   "source": [
    "severity = classes[0]\n",
    "capacity = classes[1]\n",
    "services = classes[2]\n",
    "availability = classes[3]\n",
    "specialization = classes[4]\n",
    "medical_facility = classes[5]\n",
    "supply_and_resource = classes[6]\n",
    "calamities = classes[7]\n"
   ]
  },
  {
   "cell_type": "code",
   "execution_count": null,
   "metadata": {},
   "outputs": [],
   "source": [
    "df_one_hot"
   ]
  },
  {
   "cell_type": "code",
   "execution_count": null,
   "metadata": {},
   "outputs": [],
   "source": [
    "df"
   ]
  },
  {
   "cell_type": "code",
   "execution_count": null,
   "metadata": {},
   "outputs": [],
   "source": [
    "from scipy.spatial.distance import cosine\n",
    "from sklearn.preprocessing import StandardScaler\n",
    "scaler = StandardScaler()"
   ]
  },
  {
   "cell_type": "code",
   "execution_count": null,
   "metadata": {},
   "outputs": [],
   "source": [
    "def similarity(user,rescue):\n",
    "    point1=np.array([user['Location']['lat'],user['Location']['long']])\n",
    "    point2=np.array([rescue['Location']['lat'],rescue['Location']['long']])\n",
    "    dist=np.linalg.norm(point1 - point2)\n",
    "    cos_dist=cosine(user['Location']['lat'],rescue['Location']['lat'])\n",
    "    cos_dist+=cosine(user['Location']['long'],rescue['Location']['long'])\n",
    "    sev=cosine(user['Severity'],rescue['Severity'])\n",
    "    cap=cosine(user['Capacity'],rescue['Capacity'])\n",
    "    serv=cosine(user['Service'],rescue['Services'])\n",
    "    spec=cosine(user['Specialization'],rescue['Specialization'])\n",
    "    med=cosine(user['Medical Facility'],rescue['Medical Facility'])\n",
    "    suppy_and_rescource=cosine(user['Supply and Resource'],rescue['Supply and Resource'])\n",
    "    cal=cosine(user['calamities'],rescue['calamities'])\n",
    "    \n",
    "    dist=dist/100\n",
    "    \n",
    "    similarities = np.array([0.9*dist,0.8*sev,0.5*cap,0.3*serv,0.5*spec,0.2*med,0.2*suppy_and_rescource, 0.4*cal])\n",
    "    return dist ,similarities \n",
    "    "
   ]
  },
  {
   "cell_type": "code",
   "execution_count": null,
   "metadata": {},
   "outputs": [],
   "source": [
    "def encoder(values,labels):\n",
    "    l=np.zeros(len(labels))\n",
    "    for i in range(len(labels)):\n",
    "        if labels[i]  in values:\n",
    "            l[i]=1\n",
    "    return l"
   ]
  },
  {
   "cell_type": "code",
   "execution_count": null,
   "metadata": {},
   "outputs": [],
   "source": [
    "def process(user):\n",
    "    user_={\n",
    "        'Location':user['Location'],\n",
    "        'Severity': encoder(user['Severity'],severity),\n",
    "        'Capacity': encoder(user['Capacity'],capacity),\n",
    "        'Service':encoder(user['Service'],services),\n",
    "        'Specialization': encoder(user['Specialization'],specialization),\n",
    "        'Medical Facility':encoder(user['Medical Facility'],medical_facility),\n",
    "        'Supply and Resource':encoder(user['Supply and Resource'],supply_and_resource),\n",
    "        'calamities':encoder(user['calamities'],calamities)\n",
    "    }\n",
    "    \n",
    "    return user_"
   ]
  },
  {
   "cell_type": "code",
   "execution_count": null,
   "metadata": {},
   "outputs": [],
   "source": [
    "def similarity_search(user,df,df_one_hot,k=3):\n",
    "    dist=[]\n",
    "    user_=process(user)\n",
    "    print(\"*\")\n",
    "    for i in range(len(df)):\n",
    "        rescue=df_one_hot.iloc[i].to_dict()\n",
    "        si=similarity(user_,rescue)\n",
    "        \n",
    "        dist.append((i,si[0],si[1],np.sum(si[1])))\n",
    "        \n",
    "    dist=np.array(dist)\n",
    "    dist_id=np.argsort(dist[:,-1])   \n",
    "    dist=dist[dist_id[:k]]\n",
    "    \n",
    "    user_df = pd.DataFrame.from_dict({key: [value] for key, value in user.items()})\n",
    "    top_k1=[]\n",
    "    for i in dist_id[:k]:\n",
    "        top_k1.append(df.iloc[i].to_dict())\n",
    "    top_k2=[]\n",
    "    for i in dist_id[:k]:\n",
    "        top_k2.append(df_one_hot.iloc[i].to_dict())\n",
    "        \n",
    "    rescue_df=pd.DataFrame(top_k1)\n",
    "    rescue_df_one_hot=pd.DataFrame(top_k2)\n",
    "\n",
    "    \n",
    "    return dist , user_df ,rescue_df,rescue_df_one_hot"
   ]
  },
  {
   "cell_type": "code",
   "execution_count": null,
   "metadata": {},
   "outputs": [],
   "source": [
    "user={\n",
    "    'Location':{\n",
    "        'lat':26,\n",
    "        'long':80\n",
    "    },\n",
    "    'Severity': ['high'],\n",
    "    'Capacity': ['large'],\n",
    "    'Service':['medical care','food and water'],\n",
    "    'Specialization': ['medical'],\n",
    "    'Medical Facility': ['intensive care units'],\n",
    "    'Supply and Resource':['pharmaceutical available'],\n",
    "    'calamities': ['pandemic']\n",
    "}"
   ]
  },
  {
   "cell_type": "code",
   "execution_count": null,
   "metadata": {},
   "outputs": [],
   "source": [
    "dist, user_df, rescue_df,rescue_df_one_hot=similarity_search(user,df,df_one_hot)"
   ]
  },
  {
   "cell_type": "code",
   "execution_count": null,
   "metadata": {},
   "outputs": [],
   "source": [
    "user_df"
   ]
  },
  {
   "cell_type": "code",
   "execution_count": null,
   "metadata": {},
   "outputs": [],
   "source": [
    "rescue_df"
   ]
  },
  {
   "cell_type": "code",
   "execution_count": null,
   "metadata": {},
   "outputs": [],
   "source": [
    "import matplotlib.pyplot as plt\n",
    "import seaborn as sns\n",
    "sns.set(style='darkgrid')"
   ]
  },
  {
   "cell_type": "code",
   "execution_count": null,
   "metadata": {},
   "outputs": [],
   "source": [
    "x=[]\n",
    "y=[]\n",
    "for i in range(len(df)):\n",
    "    x.append(df.iloc[i]['Location']['lat'])\n",
    "    y.append(df.iloc[i]['Location']['long'])"
   ]
  },
  {
   "cell_type": "code",
   "execution_count": null,
   "metadata": {},
   "outputs": [],
   "source": [
    "plt.scatter(x,y)\n",
    "plt.scatter(rescue_df.iloc[0]['Location']['lat'],rescue_df.iloc[0]['Location']['long'],color='green')\n",
    "plt.scatter(rescue_df.iloc[1]['Location']['lat'],rescue_df.iloc[1]['Location']['long'],color='blue')\n",
    "plt.scatter(rescue_df.iloc[2]['Location']['lat'],rescue_df.iloc[2]['Location']['long'],color='black')\n",
    "plt.scatter(user['Location']['lat'],user['Location']['long'],color='red')"
   ]
  },
  {
   "cell_type": "code",
   "execution_count": null,
   "metadata": {},
   "outputs": [],
   "source": [
    "scaled_data"
   ]
  },
  {
   "cell_type": "code",
   "execution_count": null,
   "metadata": {},
   "outputs": [],
   "source": [
    "df"
   ]
  },
  {
   "cell_type": "code",
   "execution_count": null,
   "metadata": {},
   "outputs": [],
   "source": [
    "def preprocess_for_upload(data,top_k=3):\n",
    "    values=np.zeros((8,8))\n",
    "    values[0][0]=data['Location']['lat']\n",
    "    values[0][1]=data['Location']['long']\n",
    "        \n",
    "    values=encoder(data['Severity'],classes[0],values,1)\n",
    "    values=encoder(data['Capacity'],classes[1],values,2)\n",
    "    values=encoder(data['Service'],classes[2],values,3)\n",
    "    values=encoder(data['Specialization'],classes[4],values,4)\n",
    "    values=encoder(data['Medical Facility'],classes[5],values,5)\n",
    "    values=encoder(data['Supply and Resource'],classes[6],values,6)\n",
    "    values=encoder(data['calamities'],classes[7],values,7)\n",
    "\n",
    "    return values\n",
    "    \n",
    "def encoder(values,labels,array,j):\n",
    "    for i in range(len(labels)):\n",
    "        if labels[i]  in values:\n",
    "            array[j][i]=1\n",
    "    return l"
   ]
  },
  {
   "cell_type": "code",
   "execution_count": null,
   "metadata": {},
   "outputs": [],
   "source": [
    "import pandas"
   ]
  },
  {
   "cell_type": "code",
   "execution_count": null,
   "metadata": {},
   "outputs": [],
   "source": [
    "from pipeline.preprocessing.data_preprocessing import DataPreprocesser"
   ]
  },
  {
   "cell_type": "code",
   "execution_count": null,
   "metadata": {},
   "outputs": [],
   "source": [
    "from pipeline.prediction.prediction import Prediction"
   ]
  },
  {
   "cell_type": "code",
   "execution_count": null,
   "metadata": {},
   "outputs": [],
   "source": [
    "predictor=Prediction()"
   ]
  },
  {
   "cell_type": "code",
   "execution_count": null,
   "metadata": {},
   "outputs": [],
   "source": [
    "all_data=[]\n",
    "for i in range(len(df)):\n",
    "    x=df.iloc[i].to_dict()\n",
    "    x['id']=i\n",
    "    all_data.append(x)"
   ]
  },
  {
   "cell_type": "code",
   "execution_count": null,
   "metadata": {},
   "outputs": [],
   "source": [
    "user={\n",
    "    'id': 1010,\n",
    "    'Location':{\n",
    "        'lat':26,\n",
    "        'long':80\n",
    "    },\n",
    "    'Severity': ['medium'],\n",
    "    'Capacity': ['large'],\n",
    "    'Services':['medical care','food and water'],\n",
    "    'Specialization': ['medical'],\n",
    "    'Medical Facility': ['intensive care units'],\n",
    "    'Supply and Resource':['pharmaceutical available'],\n",
    "    'calamities': ['pandemic']\n",
    "}"
   ]
  },
  {
   "cell_type": "code",
   "execution_count": null,
   "metadata": {},
   "outputs": [],
   "source": [
    "user"
   ]
  },
  {
   "cell_type": "code",
   "execution_count": null,
   "metadata": {},
   "outputs": [],
   "source": [
    "res=predictor.similarity_search(user,all_data)"
   ]
  },
  {
   "cell_type": "code",
   "execution_count": null,
   "metadata": {},
   "outputs": [],
   "source": [
    "res"
   ]
  },
  {
   "cell_type": "code",
   "execution_count": null,
   "metadata": {},
   "outputs": [],
   "source": [
    "user"
   ]
  },
  {
   "cell_type": "code",
   "execution_count": null,
   "metadata": {},
   "outputs": [],
   "source": [
    "from scipy.spatial.distance import jaccard"
   ]
  },
  {
   "cell_type": "code",
   "execution_count": null,
   "metadata": {},
   "outputs": [],
   "source": [
    "jaccard([1,1,1,0,1,1],[1,1,1,0,1,1])"
   ]
  },
  {
   "cell_type": "code",
   "execution_count": null,
   "metadata": {},
   "outputs": [],
   "source": [
    "user"
   ]
  },
  {
   "cell_type": "code",
   "execution_count": null,
   "metadata": {},
   "outputs": [],
   "source": [
    "for i in range(3):\n",
    "    print(all_data[res[i][0]])\n",
    "    print()\n",
    "    print()"
   ]
  },
  {
   "cell_type": "code",
   "execution_count": null,
   "metadata": {},
   "outputs": [],
   "source": [
    "from pipeline.component import Data"
   ]
  },
  {
   "cell_type": "code",
   "execution_count": null,
   "metadata": {},
   "outputs": [],
   "source": [
    "from scipy.spatial.distance import hamming"
   ]
  },
  {
   "cell_type": "code",
   "execution_count": null,
   "metadata": {},
   "outputs": [],
   "source": [
    "predictor.classes"
   ]
  },
  {
   "cell_type": "code",
   "execution_count": null,
   "metadata": {},
   "outputs": [],
   "source": [
    "classes"
   ]
  },
  {
   "cell_type": "code",
   "execution_count": null,
   "metadata": {},
   "outputs": [],
   "source": [
    "predictor.classes"
   ]
  },
  {
   "cell_type": "code",
   "execution_count": null,
   "metadata": {},
   "outputs": [],
   "source": []
  },
  {
   "cell_type": "code",
   "execution_count": null,
   "metadata": {},
   "outputs": [],
   "source": []
  },
  {
   "cell_type": "code",
   "execution_count": null,
   "metadata": {},
   "outputs": [],
   "source": []
  },
  {
   "cell_type": "code",
   "execution_count": null,
   "metadata": {},
   "outputs": [],
   "source": []
  },
  {
   "cell_type": "code",
   "execution_count": null,
   "metadata": {},
   "outputs": [],
   "source": []
  },
  {
   "cell_type": "code",
   "execution_count": null,
   "metadata": {},
   "outputs": [],
   "source": []
  },
  {
   "cell_type": "code",
   "execution_count": null,
   "metadata": {},
   "outputs": [],
   "source": []
  }
 ],
 "metadata": {
  "kernelspec": {
   "display_name": "gpu",
   "language": "python",
   "name": "python3"
  },
  "language_info": {
   "codemirror_mode": {
    "name": "ipython",
    "version": 3
   },
   "file_extension": ".py",
   "mimetype": "text/x-python",
   "name": "python",
   "nbconvert_exporter": "python",
   "pygments_lexer": "ipython3",
   "version": "3.9.16"
  },
  "orig_nbformat": 4
 },
 "nbformat": 4,
 "nbformat_minor": 2
}
