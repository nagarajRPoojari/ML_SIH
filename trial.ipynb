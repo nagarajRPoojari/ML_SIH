{
 "cells": [
  {
   "cell_type": "code",
   "execution_count": 1,
   "metadata": {},
   "outputs": [],
   "source": [
    "import pandas as pd \n",
    "import numpy as np\n",
    "import tensorflow as tf\n",
    "import sklearn as sk"
   ]
  },
  {
   "cell_type": "code",
   "execution_count": 2,
   "metadata": {},
   "outputs": [],
   "source": [
    "# from user side\n",
    "\n",
    "# location\n",
    "# severity : low, medium , high\n",
    "# capacity-need : small, medium , large\n",
    "# service-need : food and water, shelter , evacuation , medical , fire , workforce , protection\n",
    "# specialization-need : medical , water rescue , search and rescue , fire responce ,  evacuation , earthquake-responce\n",
    "# medical-facilities-need : basic , trauma care , surgical facilities ,intensive care units\n",
    "# supplies and resources : low , high\n"
   ]
  },
  {
   "cell_type": "code",
   "execution_count": 3,
   "metadata": {},
   "outputs": [],
   "source": [
    "# from rescue team side\n",
    "# location\n",
    "# severity : low , medium , high\n",
    "# capacity : small, medium , large\n",
    "# services : food and water, shelter , evacuation , medical , fire , workforce , protection\n",
    "# availability : available , full , temprarily unavailable\n",
    "# specialization : medical , water rescue , search and rescue , fire responce , evacuation ,earthquake-responce\n",
    "# medical facilities : basic , trauma care , surgical facilities ,intensive care units\n",
    "# supplies and resources : well-stocked , limited supplies "
   ]
  },
  {
   "cell_type": "code",
   "execution_count": 87,
   "metadata": {},
   "outputs": [],
   "source": [
    "from random import choices , choice , randint , uniform, sample"
   ]
  },
  {
   "cell_type": "code",
   "execution_count": 123,
   "metadata": {},
   "outputs": [
    {
     "data": {
      "text/plain": [
       "[3, 2, 1, 5, 4, 6]"
      ]
     },
     "execution_count": 123,
     "metadata": {},
     "output_type": "execute_result"
    }
   ],
   "source": [
    "sample([1,2,3,4,5,6],k=randint(1,6))"
   ]
  },
  {
   "cell_type": "code",
   "execution_count": 127,
   "metadata": {},
   "outputs": [],
   "source": [
    "def generate(severity , capacity,services,availability,specialization,medical_facility,supply_and_resource):\n",
    "    loc={\"lat\":uniform(6,36),\"long\":uniform(68,98)}\n",
    "    sev=sample(severity, k=randint(0,2))\n",
    "    cap=sample(capacity, k=randint(0,2))\n",
    "    serv=sample(services, k=randint(1,len(services)))\n",
    "    avail=sample(availability, k=randint(0,2))\n",
    "    special=sample(specialization, k=randint(1,len(specialization)))\n",
    "    med=sample(medical_facility, k=randint(1,len(specialization))) \n",
    "    resource=sample(supply_and_resource, k=randint(0,2)) \n",
    "    \n",
    "    return loc,sev,cap,serv,avail,special, med , resource\n",
    "    "
   ]
  },
  {
   "cell_type": "code",
   "execution_count": 128,
   "metadata": {},
   "outputs": [],
   "source": [
    "severity=['low','medium','high']\n",
    "capacity=['small','medium','high']\n",
    "services=['food and water','shelter','evacuation','medical','fire','workforce','protection']\n",
    "availability=['available','full','temprarily unavailable']\n",
    "specialization=['medical','water rescue' , 'search and rescue' , 'fire responce' , 'evacuation' ,'earthquake-responce']\n",
    "medical_facility=['basic' , 'trauma care' , 'surgical facilities' ,'intensive care units']\n",
    "supply_and_resource=['well-stocked' , 'limited supplies']"
   ]
  },
  {
   "cell_type": "code",
   "execution_count": 129,
   "metadata": {},
   "outputs": [
    {
     "data": {
      "text/plain": [
       "({'lat': 31.791735152504714, 'long': 88.60469126402025},\n",
       " ['medium', 'low'],\n",
       " ['small'],\n",
       " ['protection'],\n",
       " ['full', 'available'],\n",
       " ['fire responce', 'earthquake-responce', 'search and rescue', 'medical'],\n",
       " ['intensive care units'],\n",
       " [])"
      ]
     },
     "execution_count": 129,
     "metadata": {},
     "output_type": "execute_result"
    }
   ],
   "source": [
    "generate(severity , capacity,services,availability,specialization,medical_facility,supply_and_resource)"
   ]
  },
  {
   "cell_type": "code",
   "execution_count": 134,
   "metadata": {},
   "outputs": [],
   "source": [
    "severity = [\"low\", \"medium\", \"high\"]\n",
    "capacity = [\"small\", \"medium\", \"large\"]\n",
    "services = [\"medical care\", \"food and water\", \"transportation\", \"language assistance\", \"counseling\"]\n",
    "availability = [\"available\", \"almost full\", \"full\", \"temporarily unavailable\"]\n",
    "specialization = [\"medical\", \"water rescue\", \"search and rescue\", \"fire response\", \"mental health support\"]\n",
    "medical_facility = [\"basic first aid\", \"trauma care\", \"surgical facilities\", \"intensive care units\", \"pediatric care\"]\n",
    "supply_and_resource = [\"well-stocked\", \"limited supplies\", \"medical equipment available\", \"pharmaceuticals available\"]\n",
    "calamities = [\"earthquake\", \"flood\", \"fire\", \"hurricane\", \"tsunami\", \"terrorist attack\", \"pandemic\", \"nuclear incident\"]\n"
   ]
  },
  {
   "cell_type": "code",
   "execution_count": 154,
   "metadata": {},
   "outputs": [],
   "source": [
    "def generate(severity, capacity, services, availability, specialization, medical_facility, supply_and_resource, calamities):\n",
    "    loc = {\"lat\": uniform(6, 36), \"long\": uniform(68, 98)}\n",
    "    sev = sample(severity, k=randint(1, 2))\n",
    "    cap = sample(capacity, k=randint(1, 2))\n",
    "    serv = sample(services, k=randint(1, len(services)))\n",
    "    avail = sample(availability, k=randint(1, 2))\n",
    "    special = sample(specialization, k=randint(1, len(specialization)))\n",
    "    med = sample(medical_facility, k=randint(1, len(specialization)))\n",
    "    resource = sample(supply_and_resource, k=randint(1, 2))\n",
    "    calamity_needs = sample(calamities, k=randint(1, 3))\n",
    "    \n",
    "    return loc, sev, cap, serv, avail, special, med, resource, calamity_needs\n"
   ]
  },
  {
   "cell_type": "code",
   "execution_count": 155,
   "metadata": {},
   "outputs": [],
   "source": [
    "\n",
    "data = [generate(severity, capacity, services, availability, specialization, medical_facility, supply_and_resource, calamities) for _ in range(100)]\n",
    "columns = [\"Location\", \"Severity\", \"Capacity\", \"Services\", \"Availability\", \"Specialization\", \"Medical Facility\", \"Supply and Resource\",\"calamities\"]\n",
    "df = pd.DataFrame(data, columns=columns)\n"
   ]
  },
  {
   "cell_type": "code",
   "execution_count": 156,
   "metadata": {},
   "outputs": [],
   "source": [
    "from sklearn.preprocessing import LabelEncoder, OneHotEncoder"
   ]
  },
  {
   "cell_type": "code",
   "execution_count": 159,
   "metadata": {},
   "outputs": [],
   "source": [
    "from sklearn.preprocessing import MultiLabelBinarizer\n",
    "one_hot_encoder=MultiLabelBinarizer()"
   ]
  },
  {
   "cell_type": "code",
   "execution_count": 162,
   "metadata": {},
   "outputs": [],
   "source": [
    "df_one_hot=df.copy()"
   ]
  },
  {
   "cell_type": "code",
   "execution_count": 185,
   "metadata": {},
   "outputs": [],
   "source": [
    "for column in columns[1:]:\n",
    "    label_arr=df[column].tolist()\n",
    "    one_hot_encoder=MultiLabelBinarizer()\n",
    "    one_hot=one_hot_encoder.fit_transform(label_arr)\n",
    "    df_one_hot[column]=one_hot.tolist()\n",
    "    "
   ]
  },
  {
   "cell_type": "code",
   "execution_count": 186,
   "metadata": {},
   "outputs": [
    {
     "data": {
      "text/html": [
       "<div>\n",
       "<style scoped>\n",
       "    .dataframe tbody tr th:only-of-type {\n",
       "        vertical-align: middle;\n",
       "    }\n",
       "\n",
       "    .dataframe tbody tr th {\n",
       "        vertical-align: top;\n",
       "    }\n",
       "\n",
       "    .dataframe thead th {\n",
       "        text-align: right;\n",
       "    }\n",
       "</style>\n",
       "<table border=\"1\" class=\"dataframe\">\n",
       "  <thead>\n",
       "    <tr style=\"text-align: right;\">\n",
       "      <th></th>\n",
       "      <th>Location</th>\n",
       "      <th>Severity</th>\n",
       "      <th>Capacity</th>\n",
       "      <th>Services</th>\n",
       "      <th>Availability</th>\n",
       "      <th>Specialization</th>\n",
       "      <th>Medical Facility</th>\n",
       "      <th>Supply and Resource</th>\n",
       "      <th>calamities</th>\n",
       "    </tr>\n",
       "  </thead>\n",
       "  <tbody>\n",
       "    <tr>\n",
       "      <th>0</th>\n",
       "      <td>{'lat': 7.3109828506943435, 'long': 92.0905122...</td>\n",
       "      <td>[0, 1, 0]</td>\n",
       "      <td>[1, 0, 0]</td>\n",
       "      <td>[0, 0, 0, 0, 1]</td>\n",
       "      <td>[1, 0, 0, 1]</td>\n",
       "      <td>[1, 1, 1, 1, 1]</td>\n",
       "      <td>[0, 1, 1, 1, 1]</td>\n",
       "      <td>[0, 1, 0, 0]</td>\n",
       "      <td>[1, 0, 1, 0, 1, 0, 0, 0]</td>\n",
       "    </tr>\n",
       "    <tr>\n",
       "      <th>1</th>\n",
       "      <td>{'lat': 29.537289162803926, 'long': 97.9082990...</td>\n",
       "      <td>[0, 1, 0]</td>\n",
       "      <td>[1, 0, 1]</td>\n",
       "      <td>[0, 0, 0, 1, 0]</td>\n",
       "      <td>[0, 0, 1, 0]</td>\n",
       "      <td>[1, 1, 1, 1, 1]</td>\n",
       "      <td>[0, 0, 0, 1, 0]</td>\n",
       "      <td>[1, 0, 0, 1]</td>\n",
       "      <td>[0, 0, 1, 0, 1, 0, 0, 0]</td>\n",
       "    </tr>\n",
       "    <tr>\n",
       "      <th>2</th>\n",
       "      <td>{'lat': 32.42526846722204, 'long': 80.82730419...</td>\n",
       "      <td>[0, 1, 0]</td>\n",
       "      <td>[1, 0, 0]</td>\n",
       "      <td>[1, 1, 0, 1, 1]</td>\n",
       "      <td>[0, 0, 1, 0]</td>\n",
       "      <td>[0, 1, 1, 1, 1]</td>\n",
       "      <td>[0, 0, 0, 0, 1]</td>\n",
       "      <td>[1, 0, 0, 1]</td>\n",
       "      <td>[0, 0, 0, 0, 0, 1, 1, 0]</td>\n",
       "    </tr>\n",
       "    <tr>\n",
       "      <th>3</th>\n",
       "      <td>{'lat': 31.772311884397368, 'long': 94.6378937...</td>\n",
       "      <td>[0, 1, 0]</td>\n",
       "      <td>[1, 0, 0]</td>\n",
       "      <td>[0, 0, 0, 1, 1]</td>\n",
       "      <td>[0, 0, 1, 0]</td>\n",
       "      <td>[1, 1, 1, 1, 1]</td>\n",
       "      <td>[0, 0, 1, 1, 1]</td>\n",
       "      <td>[1, 0, 0, 1]</td>\n",
       "      <td>[0, 0, 0, 1, 0, 0, 0, 0]</td>\n",
       "    </tr>\n",
       "    <tr>\n",
       "      <th>4</th>\n",
       "      <td>{'lat': 34.062664429785926, 'long': 82.7104814...</td>\n",
       "      <td>[1, 0, 0]</td>\n",
       "      <td>[1, 0, 0]</td>\n",
       "      <td>[0, 1, 0, 1, 1]</td>\n",
       "      <td>[0, 1, 0, 1]</td>\n",
       "      <td>[1, 0, 0, 0, 0]</td>\n",
       "      <td>[1, 0, 1, 0, 1]</td>\n",
       "      <td>[0, 0, 1, 0]</td>\n",
       "      <td>[0, 0, 1, 1, 1, 0, 0, 0]</td>\n",
       "    </tr>\n",
       "    <tr>\n",
       "      <th>...</th>\n",
       "      <td>...</td>\n",
       "      <td>...</td>\n",
       "      <td>...</td>\n",
       "      <td>...</td>\n",
       "      <td>...</td>\n",
       "      <td>...</td>\n",
       "      <td>...</td>\n",
       "      <td>...</td>\n",
       "      <td>...</td>\n",
       "    </tr>\n",
       "    <tr>\n",
       "      <th>95</th>\n",
       "      <td>{'lat': 26.66211678981048, 'long': 94.04585190...</td>\n",
       "      <td>[0, 0, 1]</td>\n",
       "      <td>[0, 1, 0]</td>\n",
       "      <td>[0, 0, 0, 1, 0]</td>\n",
       "      <td>[0, 0, 1, 0]</td>\n",
       "      <td>[0, 0, 1, 0, 1]</td>\n",
       "      <td>[1, 1, 0, 1, 1]</td>\n",
       "      <td>[1, 0, 1, 0]</td>\n",
       "      <td>[0, 1, 1, 0, 0, 0, 1, 0]</td>\n",
       "    </tr>\n",
       "    <tr>\n",
       "      <th>96</th>\n",
       "      <td>{'lat': 28.06331325944382, 'long': 93.46278307...</td>\n",
       "      <td>[1, 1, 0]</td>\n",
       "      <td>[1, 0, 1]</td>\n",
       "      <td>[1, 1, 1, 1, 1]</td>\n",
       "      <td>[0, 0, 1, 1]</td>\n",
       "      <td>[0, 1, 0, 1, 1]</td>\n",
       "      <td>[1, 1, 1, 1, 1]</td>\n",
       "      <td>[0, 1, 0, 0]</td>\n",
       "      <td>[0, 1, 0, 0, 1, 0, 0, 0]</td>\n",
       "    </tr>\n",
       "    <tr>\n",
       "      <th>97</th>\n",
       "      <td>{'lat': 29.60911886230827, 'long': 94.03892296...</td>\n",
       "      <td>[1, 0, 1]</td>\n",
       "      <td>[0, 1, 1]</td>\n",
       "      <td>[0, 1, 1, 0, 1]</td>\n",
       "      <td>[1, 1, 0, 0]</td>\n",
       "      <td>[0, 1, 0, 1, 1]</td>\n",
       "      <td>[0, 0, 1, 0, 0]</td>\n",
       "      <td>[1, 1, 0, 0]</td>\n",
       "      <td>[0, 0, 0, 0, 0, 1, 0, 0]</td>\n",
       "    </tr>\n",
       "    <tr>\n",
       "      <th>98</th>\n",
       "      <td>{'lat': 30.17652697045532, 'long': 95.75101892...</td>\n",
       "      <td>[0, 1, 1]</td>\n",
       "      <td>[0, 1, 1]</td>\n",
       "      <td>[0, 1, 1, 0, 0]</td>\n",
       "      <td>[0, 1, 0, 1]</td>\n",
       "      <td>[1, 1, 0, 0, 0]</td>\n",
       "      <td>[1, 1, 1, 0, 1]</td>\n",
       "      <td>[1, 0, 0, 1]</td>\n",
       "      <td>[0, 0, 0, 1, 1, 0, 0, 0]</td>\n",
       "    </tr>\n",
       "    <tr>\n",
       "      <th>99</th>\n",
       "      <td>{'lat': 17.050088564427803, 'long': 89.5247099...</td>\n",
       "      <td>[1, 1, 0]</td>\n",
       "      <td>[1, 0, 0]</td>\n",
       "      <td>[1, 0, 1, 0, 0]</td>\n",
       "      <td>[1, 0, 1, 0]</td>\n",
       "      <td>[0, 0, 0, 1, 0]</td>\n",
       "      <td>[0, 0, 0, 0, 1]</td>\n",
       "      <td>[0, 1, 1, 0]</td>\n",
       "      <td>[0, 0, 1, 0, 0, 0, 0, 0]</td>\n",
       "    </tr>\n",
       "  </tbody>\n",
       "</table>\n",
       "<p>100 rows × 9 columns</p>\n",
       "</div>"
      ],
      "text/plain": [
       "                                             Location   Severity   Capacity   \n",
       "0   {'lat': 7.3109828506943435, 'long': 92.0905122...  [0, 1, 0]  [1, 0, 0]  \\\n",
       "1   {'lat': 29.537289162803926, 'long': 97.9082990...  [0, 1, 0]  [1, 0, 1]   \n",
       "2   {'lat': 32.42526846722204, 'long': 80.82730419...  [0, 1, 0]  [1, 0, 0]   \n",
       "3   {'lat': 31.772311884397368, 'long': 94.6378937...  [0, 1, 0]  [1, 0, 0]   \n",
       "4   {'lat': 34.062664429785926, 'long': 82.7104814...  [1, 0, 0]  [1, 0, 0]   \n",
       "..                                                ...        ...        ...   \n",
       "95  {'lat': 26.66211678981048, 'long': 94.04585190...  [0, 0, 1]  [0, 1, 0]   \n",
       "96  {'lat': 28.06331325944382, 'long': 93.46278307...  [1, 1, 0]  [1, 0, 1]   \n",
       "97  {'lat': 29.60911886230827, 'long': 94.03892296...  [1, 0, 1]  [0, 1, 1]   \n",
       "98  {'lat': 30.17652697045532, 'long': 95.75101892...  [0, 1, 1]  [0, 1, 1]   \n",
       "99  {'lat': 17.050088564427803, 'long': 89.5247099...  [1, 1, 0]  [1, 0, 0]   \n",
       "\n",
       "           Services  Availability   Specialization Medical Facility   \n",
       "0   [0, 0, 0, 0, 1]  [1, 0, 0, 1]  [1, 1, 1, 1, 1]  [0, 1, 1, 1, 1]  \\\n",
       "1   [0, 0, 0, 1, 0]  [0, 0, 1, 0]  [1, 1, 1, 1, 1]  [0, 0, 0, 1, 0]   \n",
       "2   [1, 1, 0, 1, 1]  [0, 0, 1, 0]  [0, 1, 1, 1, 1]  [0, 0, 0, 0, 1]   \n",
       "3   [0, 0, 0, 1, 1]  [0, 0, 1, 0]  [1, 1, 1, 1, 1]  [0, 0, 1, 1, 1]   \n",
       "4   [0, 1, 0, 1, 1]  [0, 1, 0, 1]  [1, 0, 0, 0, 0]  [1, 0, 1, 0, 1]   \n",
       "..              ...           ...              ...              ...   \n",
       "95  [0, 0, 0, 1, 0]  [0, 0, 1, 0]  [0, 0, 1, 0, 1]  [1, 1, 0, 1, 1]   \n",
       "96  [1, 1, 1, 1, 1]  [0, 0, 1, 1]  [0, 1, 0, 1, 1]  [1, 1, 1, 1, 1]   \n",
       "97  [0, 1, 1, 0, 1]  [1, 1, 0, 0]  [0, 1, 0, 1, 1]  [0, 0, 1, 0, 0]   \n",
       "98  [0, 1, 1, 0, 0]  [0, 1, 0, 1]  [1, 1, 0, 0, 0]  [1, 1, 1, 0, 1]   \n",
       "99  [1, 0, 1, 0, 0]  [1, 0, 1, 0]  [0, 0, 0, 1, 0]  [0, 0, 0, 0, 1]   \n",
       "\n",
       "   Supply and Resource                calamities  \n",
       "0         [0, 1, 0, 0]  [1, 0, 1, 0, 1, 0, 0, 0]  \n",
       "1         [1, 0, 0, 1]  [0, 0, 1, 0, 1, 0, 0, 0]  \n",
       "2         [1, 0, 0, 1]  [0, 0, 0, 0, 0, 1, 1, 0]  \n",
       "3         [1, 0, 0, 1]  [0, 0, 0, 1, 0, 0, 0, 0]  \n",
       "4         [0, 0, 1, 0]  [0, 0, 1, 1, 1, 0, 0, 0]  \n",
       "..                 ...                       ...  \n",
       "95        [1, 0, 1, 0]  [0, 1, 1, 0, 0, 0, 1, 0]  \n",
       "96        [0, 1, 0, 0]  [0, 1, 0, 0, 1, 0, 0, 0]  \n",
       "97        [1, 1, 0, 0]  [0, 0, 0, 0, 0, 1, 0, 0]  \n",
       "98        [1, 0, 0, 1]  [0, 0, 0, 1, 1, 0, 0, 0]  \n",
       "99        [0, 1, 1, 0]  [0, 0, 1, 0, 0, 0, 0, 0]  \n",
       "\n",
       "[100 rows x 9 columns]"
      ]
     },
     "execution_count": 186,
     "metadata": {},
     "output_type": "execute_result"
    }
   ],
   "source": [
    "df_one_hot"
   ]
  },
  {
   "cell_type": "code",
   "execution_count": 188,
   "metadata": {},
   "outputs": [],
   "source": [
    "from scipy.spatial.distance import cosine"
   ]
  },
  {
   "cell_type": "code",
   "execution_count": 190,
   "metadata": {},
   "outputs": [],
   "source": [
    "def similarity(user,rescue):\n",
    "    point1=np.array([user['Location']['lat'],user['Location']['long']])\n",
    "    point2=np.array([rescue['Location']['lat'],rescue['Location']['long']])\n",
    "    dist=np.linalg.norm(point1 - point2)\n",
    "    \n",
    "    sev=cosine(user['Severity'],rescue['Severity'])\n",
    "    \n",
    "    cap=cosine(user['Capacity-need'],rescue['Capacity'])\n",
    "    \n",
    "    serv=cosine(user['Service-need'],rescue['Service'])\n",
    "    \n",
    "    spec=cosine(user['Specialization-need'],rescue['Specialization'])\n",
    "    med=cosine(user['med-facility-need'],rescue['Medical Facility'])\n",
    "    suppy_and_rescource=cosine(user['supply_and_rescource'],rescue['Supply and Resource'])\n",
    "    calamity=cosine(user['calamity'],rescue['Calamity'])\n",
    "    \n",
    "    return dist , dist+sev+cap+serv+spec+med+supply_and_resourc+ calamity\n",
    "    "
   ]
  },
  {
   "cell_type": "code",
   "execution_count": 196,
   "metadata": {},
   "outputs": [],
   "source": [
    "def encoder(values,labels):\n",
    "    l=np.zeros(len(labels))\n",
    "    for i in range(len(labels)):\n",
    "        if labels[i]  in values:\n",
    "            l[i]=1\n",
    "    return l"
   ]
  },
  {
   "cell_type": "code",
   "execution_count": null,
   "metadata": {},
   "outputs": [],
   "source": [
    "def process(user):\n",
    "    user_={\n",
    "        'Location':user['location'],\n",
    "        'Severity': encoder(user['Severity'],severity),\n",
    "        'Capacity-need': encoder(user['Capacity-need'],capacity),\n",
    "        'Service-need':encoder(user['Service-need'],service),\n",
    "        'Specialization-need'; encoder(user[''])\n",
    "    }"
   ]
  }
 ],
 "metadata": {
  "kernelspec": {
   "display_name": "gpu",
   "language": "python",
   "name": "python3"
  },
  "language_info": {
   "codemirror_mode": {
    "name": "ipython",
    "version": 3
   },
   "file_extension": ".py",
   "mimetype": "text/x-python",
   "name": "python",
   "nbconvert_exporter": "python",
   "pygments_lexer": "ipython3",
   "version": "3.9.16"
  },
  "orig_nbformat": 4
 },
 "nbformat": 4,
 "nbformat_minor": 2
}
